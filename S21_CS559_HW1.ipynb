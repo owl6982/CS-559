{
 "cells": [
  {
   "cell_type": "markdown",
   "metadata": {},
   "source": [
    "## CS559: Homework #1"
   ]
  },
  {
   "cell_type": "markdown",
   "metadata": {},
   "source": [
    "Assignment #1: due on **2/23/2021 by 11:59 PM**. \n",
    "- Change the file name as *YourName*_S21_CS559_HW1\n",
    "- Submit the assignment both in format of *ipynb* and *html*. \n",
    "    - You can export the file as *html* as `File`>`Download as`>`HTML`. The assignment should be own work and must not be shared between classmates. \n",
    "- You **do not need to compress** the files. You can submit individual files.\n",
    "- This assignment focuses on two topics - linear algebra and data pre-processing. \n",
    "    - For linear algebra questions, when the question says \"implement\", you cannot use any built-in functions.\n",
    "- This assignment should an individual work. Do not collaborate with classmates or get help from 3rd person. You may surf internet if you need to. Then site the reference. "
   ]
  },
  {
   "cell_type": "markdown",
   "metadata": {},
   "source": [
    "### Problem 1 [10 pts]\n",
    "- Implement a function `dot_product` to calculate the dot product of two 1 by n arrays. [6 pts] \n",
    "```\n",
    "a = array([1, 2, 3, 4])\n",
    "b = array([2, 3, 4, 5])\n",
    "dot_product(a,b) = 40\n",
    "```"
   ]
  },
  {
   "cell_type": "code",
   "execution_count": 12,
   "metadata": {},
   "outputs": [
    {
     "name": "stdout",
     "output_type": "stream",
     "text": [
      "40\n"
     ]
    }
   ],
   "source": [
    "### Code Starts Here\n",
    "import numpy as np\n",
    "def dot_product(a, b):\n",
    "    assert a.shape==b.shape\n",
    "    res = 0\n",
    "    for i in range(a.shape[0]):\n",
    "            res = res + a[i]*b[i]\n",
    "    return res\n",
    "\n",
    "c = np.array([1, 2, 3, 4])\n",
    "d = np.array([2, 3, 4, 5])\n",
    "res1=dot_product(c,d)\n",
    "print(res1)"
   ]
  },
  {
   "cell_type": "markdown",
   "metadata": {},
   "source": [
    "- Test your code after generating two random 1 by 10 arrays. [4 pts]"
   ]
  },
  {
   "cell_type": "code",
   "execution_count": 13,
   "metadata": {},
   "outputs": [
    {
     "name": "stdout",
     "output_type": "stream",
     "text": [
      "-5.684838654140022\n"
     ]
    }
   ],
   "source": [
    "### Code Starts Here\n",
    "x=np.random.randn(10)\n",
    "y=np.random.randn(10)\n",
    "res2=dot_product(x,y)\n",
    "print(res2)\n",
    "\n"
   ]
  },
  {
   "cell_type": "markdown",
   "metadata": {},
   "source": [
    "### Problem 2 [10 pts]\n",
    "- Consider three vectors ${\\bf x}_1=(1,3), {\\bf x}_2=(-1,5)$, and ${\\bf x}_3=(0,7)$. Find the distance of each point from the **origin**. [4 pts]"
   ]
  },
  {
   "cell_type": "code",
   "execution_count": 14,
   "metadata": {},
   "outputs": [
    {
     "name": "stdout",
     "output_type": "stream",
     "text": [
      "3.1622776601683795\n",
      "5.0990195135927845\n",
      "7.0\n"
     ]
    }
   ],
   "source": [
    "### Code Starts Here\n",
    "import numpy as np\n",
    "\n",
    "def distance(x):\n",
    "    res1 = np.sqrt((x[0]-0)*(x[0]-0)+(x[1]-0)*(x[1]-0))\n",
    "    return res1\n",
    "\n",
    "x1=np.array([1,3])\n",
    "x2=np.array([-1,5])\n",
    "x3=np.array([0,7])\n",
    "\n",
    "print(distance(x1))\n",
    "print(distance(x2))\n",
    "print(distance(x3))"
   ]
  },
  {
   "cell_type": "markdown",
   "metadata": {},
   "source": [
    "- Rotate the coordinates by 35 degress in counter clockwise. [4 pts]"
   ]
  },
  {
   "cell_type": "code",
   "execution_count": 15,
   "metadata": {},
   "outputs": [
    {
     "name": "stdout",
     "output_type": "stream",
     "text": [
      "[-0.90157726  3.03103257]\n",
      "[-3.68703423  3.52218379]\n",
      "[-4.01503505  5.73406431]\n"
     ]
    }
   ],
   "source": [
    "### Code Starts Here\n",
    "import numpy as np\n",
    "def rotate(x,de):\n",
    "    degree=np.array([[np.cos(de),-np.sin(de)], [np.sin(de),np.cos(de)]])\n",
    "    res2=np.zeros(2)\n",
    "    res2[0]=x[0]*degree[0,0]+x[1]*degree[0,1]\n",
    "    res2[1]=x[0]*degree[1,0]+x[1]*degree[1,1]\n",
    "    return res2\n",
    "\n",
    "x1=np.array([1,3])\n",
    "x2=np.array([-1,5])\n",
    "x3=np.array([0,7])\n",
    "\n",
    "print(rotate(x1,np.pi*35/180))\n",
    "print(rotate(x2,np.pi*35/180))\n",
    "print(rotate(x3,np.pi*35/180))"
   ]
  },
  {
   "cell_type": "markdown",
   "metadata": {},
   "source": [
    "- Magnify the area by 4 times. [2 pts]"
   ]
  },
  {
   "cell_type": "code",
   "execution_count": 10,
   "metadata": {},
   "outputs": [
    {
     "name": "stdout",
     "output_type": "stream",
     "text": [
      "[2 6]\n",
      "[-2 10]\n",
      "[ 0 14]\n"
     ]
    }
   ],
   "source": [
    "### Code Starts Here\n",
    "import numpy as np\n",
    "def magnify(x):\n",
    "    res3=x*2\n",
    "    return res3\n",
    "\n",
    "x1=np.array([1,3])\n",
    "x2=np.array([-1,5])\n",
    "x3=np.array([0,7])\n",
    "\n",
    "print(magnify(x1))\n",
    "print(magnify(x2))\n",
    "print(magnify(x3))\n"
   ]
  },
  {
   "cell_type": "markdown",
   "metadata": {},
   "source": [
    "### Problem 3 [20 pts]\n",
    "- Implement a function `mat_product` to calculate the matrix product of two n by n arrays. [8 pts] For example:\n",
    "\n",
    "\n",
    "$A = \\begin{bmatrix} 1 & 3 & 0 \\\\ 2 & 0 & 2 \\\\ 1 & 1 & 4 \\end{bmatrix}$ and $A\\cdot A=\\begin{bmatrix} 7 & 3 & 6 \\\\ 4 & 8 & 8 \\\\ 7 & 8 & 18 \\end{bmatrix}$\n",
    "\n",
    "    mat_product(A,A)=?"
   ]
  },
  {
   "cell_type": "code",
   "execution_count": 17,
   "metadata": {},
   "outputs": [
    {
     "name": "stdout",
     "output_type": "stream",
     "text": [
      "[[ 7.  3.  6.]\n",
      " [ 4.  8.  8.]\n",
      " [ 7.  7. 18.]]\n",
      "[[19. 27. 30.]\n",
      " [28. 22. 48.]\n",
      " [39. 43. 86.]]\n"
     ]
    }
   ],
   "source": [
    "### Code Starts Here\n",
    "import numpy as np\n",
    "def mat_product(x,y):\n",
    "    assert x.shape[1]==y.shape[0]\n",
    "    res=np.zeros((x.shape[0],y.shape[1]))\n",
    "    for i in range(x.shape[0]):\n",
    "        for j in range(y.shape[1]):\n",
    "            for k in range(x.shape[1]):\n",
    "                res[i,j]+= x[i,k] * y[k,j]\n",
    "    return res\n",
    "\n",
    "a = np.array([[1, 3, 0], [2, 0, 2], [1, 1, 4]])\n",
    "a1 = np.array([[7, 3, 6], [4, 8, 8], [7, 8, 18]])\n",
    "print(mat_product(a, a))\n",
    "print(mat_product(a, a1))"
   ]
  },
  {
   "cell_type": "markdown",
   "metadata": {},
   "source": [
    "- Test your code after generating two random 4 by 4 matrices, ${\\bf X}$ and ${\\bf Y}$. [4 pts]"
   ]
  },
  {
   "cell_type": "code",
   "execution_count": 18,
   "metadata": {},
   "outputs": [
    {
     "name": "stdout",
     "output_type": "stream",
     "text": [
      "[[-0.4062008   3.63068668 -0.07651341  2.97718566]\n",
      " [ 1.10975965  1.67190977 -0.48671398  0.60178037]\n",
      " [-1.82383197 -3.52304997  0.74926507 -1.93905732]\n",
      " [-1.85125246 -1.17017018  0.64598612  0.2543719 ]]\n"
     ]
    }
   ],
   "source": [
    "### Test Starts Here\n",
    "x=np.random.randn(4,4)\n",
    "y=np.random.randn(4,4)\n",
    "print(mat_product(x,y))"
   ]
  },
  {
   "cell_type": "markdown",
   "metadata": {},
   "source": [
    "- Inplement a function `mat_transpose` that transposes ${\\bf X}$ and use the `mat_product` function to find the matrice of product: $Z={\\bf X}^T\\cdot{\\bf Y}$ [8 pts]\n",
    "\n",
    "        Z=mat_product(mat_transpose(X),Y)"
   ]
  },
  {
   "cell_type": "code",
   "execution_count": 19,
   "metadata": {},
   "outputs": [
    {
     "name": "stdout",
     "output_type": "stream",
     "text": [
      "[[-1.25637575 -0.07789556  0.14133668  0.206394  ]\n",
      " [ 0.14924853  0.14543763 -0.22921208 -0.19822382]\n",
      " [-2.38078418  0.75311662  0.92139572  2.11712967]\n",
      " [ 3.74160196  0.44042543 -0.88740769 -1.46373562]]\n"
     ]
    }
   ],
   "source": [
    "### Code Starts Here\n",
    "def mat_transpose(x):\n",
    "    res1=np.zeros((x.shape[1],x.shape[0]))\n",
    "    for i in range(x.shape[1]):\n",
    "        for j in range(x.shape[0]):\n",
    "            res1[i,j]=x[j,i]\n",
    "    return res1\n",
    "\n",
    "z=mat_product(mat_transpose(x),y)\n",
    "print(z)"
   ]
  },
  {
   "cell_type": "markdown",
   "metadata": {},
   "source": [
    "### Problem 4 [30 pts]\n",
    "- In this question, we will use the csv file **Temp.csv**. This question task is a process of exploratory data ansysis (EDA) to learn about data itself. Read it into a data frame, call it `Temp`. (Import the packages you think you need). [4 pts]"
   ]
  },
  {
   "cell_type": "code",
   "execution_count": 38,
   "metadata": {},
   "outputs": [
    {
     "data": {
      "text/html": [
       "<div>\n",
       "<style scoped>\n",
       "    .dataframe tbody tr th:only-of-type {\n",
       "        vertical-align: middle;\n",
       "    }\n",
       "\n",
       "    .dataframe tbody tr th {\n",
       "        vertical-align: top;\n",
       "    }\n",
       "\n",
       "    .dataframe thead th {\n",
       "        text-align: right;\n",
       "    }\n",
       "</style>\n",
       "<table border=\"1\" class=\"dataframe\">\n",
       "  <thead>\n",
       "    <tr style=\"text-align: right;\">\n",
       "      <th></th>\n",
       "      <th>City</th>\n",
       "      <th>State</th>\n",
       "      <th>Temperature</th>\n",
       "    </tr>\n",
       "  </thead>\n",
       "  <tbody>\n",
       "    <tr>\n",
       "      <th>0</th>\n",
       "      <td>NYC</td>\n",
       "      <td>New York</td>\n",
       "      <td>67</td>\n",
       "    </tr>\n",
       "    <tr>\n",
       "      <th>1</th>\n",
       "      <td>Albany</td>\n",
       "      <td>New York</td>\n",
       "      <td>49</td>\n",
       "    </tr>\n",
       "    <tr>\n",
       "      <th>2</th>\n",
       "      <td>Buffalo</td>\n",
       "      <td>New York</td>\n",
       "      <td>38</td>\n",
       "    </tr>\n",
       "    <tr>\n",
       "      <th>3</th>\n",
       "      <td>Hartford</td>\n",
       "      <td>Connecticut</td>\n",
       "      <td>63</td>\n",
       "    </tr>\n",
       "    <tr>\n",
       "      <th>4</th>\n",
       "      <td>Bridgeport</td>\n",
       "      <td>Connecticut</td>\n",
       "      <td>58</td>\n",
       "    </tr>\n",
       "    <tr>\n",
       "      <th>5</th>\n",
       "      <td>Treton</td>\n",
       "      <td>New Jersey</td>\n",
       "      <td>72</td>\n",
       "    </tr>\n",
       "    <tr>\n",
       "      <th>6</th>\n",
       "      <td>Newark</td>\n",
       "      <td>New Jersey</td>\n",
       "      <td>68</td>\n",
       "    </tr>\n",
       "  </tbody>\n",
       "</table>\n",
       "</div>"
      ],
      "text/plain": [
       "         City        State  Temperature\n",
       "0         NYC     New York           67\n",
       "1      Albany     New York           49\n",
       "2     Buffalo     New York           38\n",
       "3    Hartford  Connecticut           63\n",
       "4  Bridgeport  Connecticut           58\n",
       "5      Treton   New Jersey           72\n",
       "6      Newark   New Jersey           68"
      ]
     },
     "execution_count": 38,
     "metadata": {},
     "output_type": "execute_result"
    }
   ],
   "source": [
    "### Code Starts Here\n",
    "import pandas as pd\n",
    "Temp=pd.read_csv('Temp.csv')\n",
    "Temp.head(11)"
   ]
  },
  {
   "cell_type": "markdown",
   "metadata": {},
   "source": [
    "- We learned that the temperature at New Haven, Connecticut is currently 58 degree fahrenheit. Add this information into the DataFrame.[4 pts]"
   ]
  },
  {
   "cell_type": "code",
   "execution_count": 39,
   "metadata": {},
   "outputs": [
    {
     "data": {
      "text/html": [
       "<div>\n",
       "<style scoped>\n",
       "    .dataframe tbody tr th:only-of-type {\n",
       "        vertical-align: middle;\n",
       "    }\n",
       "\n",
       "    .dataframe tbody tr th {\n",
       "        vertical-align: top;\n",
       "    }\n",
       "\n",
       "    .dataframe thead th {\n",
       "        text-align: right;\n",
       "    }\n",
       "</style>\n",
       "<table border=\"1\" class=\"dataframe\">\n",
       "  <thead>\n",
       "    <tr style=\"text-align: right;\">\n",
       "      <th></th>\n",
       "      <th>City</th>\n",
       "      <th>State</th>\n",
       "      <th>Temperature</th>\n",
       "    </tr>\n",
       "  </thead>\n",
       "  <tbody>\n",
       "    <tr>\n",
       "      <th>0</th>\n",
       "      <td>NYC</td>\n",
       "      <td>New York</td>\n",
       "      <td>67</td>\n",
       "    </tr>\n",
       "    <tr>\n",
       "      <th>1</th>\n",
       "      <td>Albany</td>\n",
       "      <td>New York</td>\n",
       "      <td>49</td>\n",
       "    </tr>\n",
       "    <tr>\n",
       "      <th>2</th>\n",
       "      <td>Buffalo</td>\n",
       "      <td>New York</td>\n",
       "      <td>38</td>\n",
       "    </tr>\n",
       "    <tr>\n",
       "      <th>3</th>\n",
       "      <td>Hartford</td>\n",
       "      <td>Connecticut</td>\n",
       "      <td>63</td>\n",
       "    </tr>\n",
       "    <tr>\n",
       "      <th>4</th>\n",
       "      <td>Bridgeport</td>\n",
       "      <td>Connecticut</td>\n",
       "      <td>58</td>\n",
       "    </tr>\n",
       "    <tr>\n",
       "      <th>5</th>\n",
       "      <td>Treton</td>\n",
       "      <td>New Jersey</td>\n",
       "      <td>72</td>\n",
       "    </tr>\n",
       "    <tr>\n",
       "      <th>6</th>\n",
       "      <td>Newark</td>\n",
       "      <td>New Jersey</td>\n",
       "      <td>68</td>\n",
       "    </tr>\n",
       "    <tr>\n",
       "      <th>7</th>\n",
       "      <td>New Haven</td>\n",
       "      <td>Connecticut</td>\n",
       "      <td>58</td>\n",
       "    </tr>\n",
       "  </tbody>\n",
       "</table>\n",
       "</div>"
      ],
      "text/plain": [
       "         City        State  Temperature\n",
       "0         NYC     New York           67\n",
       "1      Albany     New York           49\n",
       "2     Buffalo     New York           38\n",
       "3    Hartford  Connecticut           63\n",
       "4  Bridgeport  Connecticut           58\n",
       "5      Treton   New Jersey           72\n",
       "6      Newark   New Jersey           68\n",
       "7   New Haven  Connecticut           58"
      ]
     },
     "execution_count": 39,
     "metadata": {},
     "output_type": "execute_result"
    }
   ],
   "source": [
    "### Code Starts Here\n",
    "data=pd.DataFrame({'City':['New Haven'],'State':['Connecticut'],'Temperature':[58]})\n",
    "Temp = pd.concat([Temp,data],ignore_index=True)\n",
    "Temp.head(9)"
   ]
  },
  {
   "cell_type": "markdown",
   "metadata": {},
   "source": [
    "- Replace the names of the states by their abbreviations. [4 pts] That is \n",
    "    - Connecticut --> CT\n",
    "    - New Jersey  --> NJ\n",
    "    - New York    --> NY"
   ]
  },
  {
   "cell_type": "code",
   "execution_count": 40,
   "metadata": {},
   "outputs": [
    {
     "data": {
      "text/html": [
       "<div>\n",
       "<style scoped>\n",
       "    .dataframe tbody tr th:only-of-type {\n",
       "        vertical-align: middle;\n",
       "    }\n",
       "\n",
       "    .dataframe tbody tr th {\n",
       "        vertical-align: top;\n",
       "    }\n",
       "\n",
       "    .dataframe thead th {\n",
       "        text-align: right;\n",
       "    }\n",
       "</style>\n",
       "<table border=\"1\" class=\"dataframe\">\n",
       "  <thead>\n",
       "    <tr style=\"text-align: right;\">\n",
       "      <th></th>\n",
       "      <th>City</th>\n",
       "      <th>State</th>\n",
       "      <th>Temperature</th>\n",
       "    </tr>\n",
       "  </thead>\n",
       "  <tbody>\n",
       "    <tr>\n",
       "      <th>0</th>\n",
       "      <td>NYC</td>\n",
       "      <td>NY</td>\n",
       "      <td>67</td>\n",
       "    </tr>\n",
       "    <tr>\n",
       "      <th>1</th>\n",
       "      <td>Albany</td>\n",
       "      <td>NY</td>\n",
       "      <td>49</td>\n",
       "    </tr>\n",
       "    <tr>\n",
       "      <th>2</th>\n",
       "      <td>Buffalo</td>\n",
       "      <td>NY</td>\n",
       "      <td>38</td>\n",
       "    </tr>\n",
       "    <tr>\n",
       "      <th>3</th>\n",
       "      <td>Hartford</td>\n",
       "      <td>CT</td>\n",
       "      <td>63</td>\n",
       "    </tr>\n",
       "    <tr>\n",
       "      <th>4</th>\n",
       "      <td>Bridgeport</td>\n",
       "      <td>CT</td>\n",
       "      <td>58</td>\n",
       "    </tr>\n",
       "    <tr>\n",
       "      <th>5</th>\n",
       "      <td>Treton</td>\n",
       "      <td>NJ</td>\n",
       "      <td>72</td>\n",
       "    </tr>\n",
       "    <tr>\n",
       "      <th>6</th>\n",
       "      <td>Newark</td>\n",
       "      <td>NJ</td>\n",
       "      <td>68</td>\n",
       "    </tr>\n",
       "    <tr>\n",
       "      <th>7</th>\n",
       "      <td>New Haven</td>\n",
       "      <td>CT</td>\n",
       "      <td>58</td>\n",
       "    </tr>\n",
       "  </tbody>\n",
       "</table>\n",
       "</div>"
      ],
      "text/plain": [
       "         City State  Temperature\n",
       "0         NYC    NY           67\n",
       "1      Albany    NY           49\n",
       "2     Buffalo    NY           38\n",
       "3    Hartford    CT           63\n",
       "4  Bridgeport    CT           58\n",
       "5      Treton    NJ           72\n",
       "6      Newark    NJ           68\n",
       "7   New Haven    CT           58"
      ]
     },
     "execution_count": 40,
     "metadata": {},
     "output_type": "execute_result"
    }
   ],
   "source": [
    "### Code Starts Here\n",
    "\n",
    "Temp.replace('Connecticut', 'CT', inplace=True)\n",
    "Temp.replace('New Jersey', 'NJ', inplace=True)\n",
    "Temp.replace('New York', 'NY', inplace=True)\n",
    "Temp.head(9)"
   ]
  },
  {
   "cell_type": "markdown",
   "metadata": {},
   "source": [
    "- Select the rows in New York. [2 pts]"
   ]
  },
  {
   "cell_type": "code",
   "execution_count": 41,
   "metadata": {},
   "outputs": [
    {
     "data": {
      "text/html": [
       "<div>\n",
       "<style scoped>\n",
       "    .dataframe tbody tr th:only-of-type {\n",
       "        vertical-align: middle;\n",
       "    }\n",
       "\n",
       "    .dataframe tbody tr th {\n",
       "        vertical-align: top;\n",
       "    }\n",
       "\n",
       "    .dataframe thead th {\n",
       "        text-align: right;\n",
       "    }\n",
       "</style>\n",
       "<table border=\"1\" class=\"dataframe\">\n",
       "  <thead>\n",
       "    <tr style=\"text-align: right;\">\n",
       "      <th></th>\n",
       "      <th>City</th>\n",
       "      <th>State</th>\n",
       "      <th>Temperature</th>\n",
       "    </tr>\n",
       "  </thead>\n",
       "  <tbody>\n",
       "    <tr>\n",
       "      <th>0</th>\n",
       "      <td>NYC</td>\n",
       "      <td>NY</td>\n",
       "      <td>67</td>\n",
       "    </tr>\n",
       "    <tr>\n",
       "      <th>1</th>\n",
       "      <td>Albany</td>\n",
       "      <td>NY</td>\n",
       "      <td>49</td>\n",
       "    </tr>\n",
       "    <tr>\n",
       "      <th>2</th>\n",
       "      <td>Buffalo</td>\n",
       "      <td>NY</td>\n",
       "      <td>38</td>\n",
       "    </tr>\n",
       "  </tbody>\n",
       "</table>\n",
       "</div>"
      ],
      "text/plain": [
       "      City State  Temperature\n",
       "0      NYC    NY           67\n",
       "1   Albany    NY           49\n",
       "2  Buffalo    NY           38"
      ]
     },
     "execution_count": 41,
     "metadata": {},
     "output_type": "execute_result"
    }
   ],
   "source": [
    "### Code Starts Here\n",
    "ny=Temp.loc[Temp['State']=='NY',:]\n",
    "ny.head()"
   ]
  },
  {
   "cell_type": "markdown",
   "metadata": {},
   "source": [
    "- What is the average of the temperature of cities in NY? [4 pts]"
   ]
  },
  {
   "cell_type": "code",
   "execution_count": 42,
   "metadata": {},
   "outputs": [
    {
     "name": "stdout",
     "output_type": "stream",
     "text": [
      "The average temperature in NY is  51.333333333333336\n"
     ]
    }
   ],
   "source": [
    "### Code Starts Here\n",
    "nymean=ny['Temperature'].mean(axis=0)\n",
    "print('The average temperature in NY is ' ,str(nymean))"
   ]
  },
  {
   "cell_type": "markdown",
   "metadata": {},
   "source": [
    "- Find the mean and the standard deviation of the temperature of each state. [4 pts]"
   ]
  },
  {
   "cell_type": "code",
   "execution_count": 43,
   "metadata": {},
   "outputs": [
    {
     "name": "stdout",
     "output_type": "stream",
     "text": [
      "The average temperature in NY is  51.333333333333336\n",
      "The deviation of the temperature in NY is  14.6401275039985\n",
      "The average temperature in CT is  59.666666666666664\n",
      "The deviation of the temperature in CT is  2.8867513459481287\n",
      "The average temperature in NJ is  70.0\n",
      "The deviation of the temperature in NJ is  2.8284271247461903\n"
     ]
    }
   ],
   "source": [
    "### Code Starts Here\n",
    "nymean=ny['Temperature'].mean(axis=0)\n",
    "print('The average temperature in NY is ' ,str(nymean))\n",
    "nystd=ny['Temperature'].std(axis=0)\n",
    "print('The deviation of the temperature in NY is ' ,str(nystd))\n",
    "\n",
    "\n",
    "ct=Temp.loc[Temp['State']=='CT',:]\n",
    "ctmean = ct['Temperature'].mean(axis=0)\n",
    "print('The average temperature in CT is ',str(ctmean))\n",
    "ctstd=ct['Temperature'].std(axis=0)\n",
    "print('The deviation of the temperature in CT is ' ,str(ctstd))\n",
    "\n",
    "nj=Temp.loc[Temp['State']=='NJ',:]\n",
    "njmean = nj['Temperature'].mean(axis=0)\n",
    "print('The average temperature in NJ is ' ,str(njmean))\n",
    "njstd=nj['Temperature'].std(axis=0)\n",
    "print('The deviation of the temperature in NJ is ' ,str(njstd))\n"
   ]
  },
  {
   "cell_type": "markdown",
   "metadata": {},
   "source": [
    "- Create a data frame `Capital`, with two columns: State and Capital. [4 pts] \n",
    "\n",
    "    We know the capital of each state: \n",
    "    - Connecticut --> Hartford\n",
    "    - New Jersey  --> Treton\n",
    "    - New York    --> Albany\n",
    "    \n",
    "|| State| Capital|\n",
    "| :-: |:---: | :---:|\n",
    "| 0| CT  | Hartford|\n",
    "| 1| NJ | Treton|\n",
    "| 2| NY| Albany|"
   ]
  },
  {
   "cell_type": "code",
   "execution_count": 44,
   "metadata": {},
   "outputs": [
    {
     "data": {
      "text/html": [
       "<div>\n",
       "<style scoped>\n",
       "    .dataframe tbody tr th:only-of-type {\n",
       "        vertical-align: middle;\n",
       "    }\n",
       "\n",
       "    .dataframe tbody tr th {\n",
       "        vertical-align: top;\n",
       "    }\n",
       "\n",
       "    .dataframe thead th {\n",
       "        text-align: right;\n",
       "    }\n",
       "</style>\n",
       "<table border=\"1\" class=\"dataframe\">\n",
       "  <thead>\n",
       "    <tr style=\"text-align: right;\">\n",
       "      <th></th>\n",
       "      <th>State</th>\n",
       "      <th>Capital</th>\n",
       "    </tr>\n",
       "  </thead>\n",
       "  <tbody>\n",
       "    <tr>\n",
       "      <th>0</th>\n",
       "      <td>CT</td>\n",
       "      <td>Hartford</td>\n",
       "    </tr>\n",
       "    <tr>\n",
       "      <th>1</th>\n",
       "      <td>NJ</td>\n",
       "      <td>Treton</td>\n",
       "    </tr>\n",
       "    <tr>\n",
       "      <th>2</th>\n",
       "      <td>NY</td>\n",
       "      <td>Albany</td>\n",
       "    </tr>\n",
       "  </tbody>\n",
       "</table>\n",
       "</div>"
      ],
      "text/plain": [
       "  State   Capital\n",
       "0    CT  Hartford\n",
       "1    NJ    Treton\n",
       "2    NY    Albany"
      ]
     },
     "execution_count": 44,
     "metadata": {},
     "output_type": "execute_result"
    }
   ],
   "source": [
    "### Code Starts Here\n",
    "Capital=pd.DataFrame({'State':['CT','NJ','NY'],'Capital':['Hartford','Treton','Albany']})\n",
    "cp = ['State', 'Capital']\n",
    "Capital = Capital[cp]\n",
    "Capital.head()"
   ]
  },
  {
   "cell_type": "markdown",
   "metadata": {},
   "source": [
    "- Mutate a new boolean column, `Capital`, to `Temp`, which is `True` if the city in the row is the capital of the state, else `False`. [4 pts]"
   ]
  },
  {
   "cell_type": "code",
   "execution_count": 45,
   "metadata": {},
   "outputs": [
    {
     "data": {
      "text/html": [
       "<div>\n",
       "<style scoped>\n",
       "    .dataframe tbody tr th:only-of-type {\n",
       "        vertical-align: middle;\n",
       "    }\n",
       "\n",
       "    .dataframe tbody tr th {\n",
       "        vertical-align: top;\n",
       "    }\n",
       "\n",
       "    .dataframe thead th {\n",
       "        text-align: right;\n",
       "    }\n",
       "</style>\n",
       "<table border=\"1\" class=\"dataframe\">\n",
       "  <thead>\n",
       "    <tr style=\"text-align: right;\">\n",
       "      <th></th>\n",
       "      <th>City</th>\n",
       "      <th>State</th>\n",
       "      <th>Temperature</th>\n",
       "      <th>Captical</th>\n",
       "    </tr>\n",
       "  </thead>\n",
       "  <tbody>\n",
       "    <tr>\n",
       "      <th>0</th>\n",
       "      <td>NYC</td>\n",
       "      <td>NY</td>\n",
       "      <td>67</td>\n",
       "      <td>False</td>\n",
       "    </tr>\n",
       "    <tr>\n",
       "      <th>1</th>\n",
       "      <td>Albany</td>\n",
       "      <td>NY</td>\n",
       "      <td>49</td>\n",
       "      <td>True</td>\n",
       "    </tr>\n",
       "    <tr>\n",
       "      <th>2</th>\n",
       "      <td>Buffalo</td>\n",
       "      <td>NY</td>\n",
       "      <td>38</td>\n",
       "      <td>False</td>\n",
       "    </tr>\n",
       "    <tr>\n",
       "      <th>3</th>\n",
       "      <td>Hartford</td>\n",
       "      <td>CT</td>\n",
       "      <td>63</td>\n",
       "      <td>True</td>\n",
       "    </tr>\n",
       "    <tr>\n",
       "      <th>4</th>\n",
       "      <td>Bridgeport</td>\n",
       "      <td>CT</td>\n",
       "      <td>58</td>\n",
       "      <td>False</td>\n",
       "    </tr>\n",
       "    <tr>\n",
       "      <th>5</th>\n",
       "      <td>Treton</td>\n",
       "      <td>NJ</td>\n",
       "      <td>72</td>\n",
       "      <td>True</td>\n",
       "    </tr>\n",
       "    <tr>\n",
       "      <th>6</th>\n",
       "      <td>Newark</td>\n",
       "      <td>NJ</td>\n",
       "      <td>68</td>\n",
       "      <td>False</td>\n",
       "    </tr>\n",
       "    <tr>\n",
       "      <th>7</th>\n",
       "      <td>New Haven</td>\n",
       "      <td>CT</td>\n",
       "      <td>58</td>\n",
       "      <td>False</td>\n",
       "    </tr>\n",
       "  </tbody>\n",
       "</table>\n",
       "</div>"
      ],
      "text/plain": [
       "         City State  Temperature  Captical\n",
       "0         NYC    NY           67     False\n",
       "1      Albany    NY           49      True\n",
       "2     Buffalo    NY           38     False\n",
       "3    Hartford    CT           63      True\n",
       "4  Bridgeport    CT           58     False\n",
       "5      Treton    NJ           72      True\n",
       "6      Newark    NJ           68     False\n",
       "7   New Haven    CT           58     False"
      ]
     },
     "execution_count": 45,
     "metadata": {},
     "output_type": "execute_result"
    }
   ],
   "source": [
    "### Code Starts Here\n",
    "Temp['Captical']=Temp['City'].isin(Capital['Capital'])\n",
    "Temp.head(9)"
   ]
  },
  {
   "cell_type": "markdown",
   "metadata": {},
   "source": [
    "### Problem 5 [30 pts]\n",
    "\n",
    "- a. Load the Gross Domestic Product data for the 190 ranked countries in the file **GDP.csv**. Load **Country.csv** into a DataFrame. [6 pts]"
   ]
  },
  {
   "cell_type": "code",
   "execution_count": 46,
   "metadata": {},
   "outputs": [
    {
     "data": {
      "text/html": [
       "<div>\n",
       "<style scoped>\n",
       "    .dataframe tbody tr th:only-of-type {\n",
       "        vertical-align: middle;\n",
       "    }\n",
       "\n",
       "    .dataframe tbody tr th {\n",
       "        vertical-align: top;\n",
       "    }\n",
       "\n",
       "    .dataframe thead th {\n",
       "        text-align: right;\n",
       "    }\n",
       "</style>\n",
       "<table border=\"1\" class=\"dataframe\">\n",
       "  <thead>\n",
       "    <tr style=\"text-align: right;\">\n",
       "      <th></th>\n",
       "      <th>CountryCode</th>\n",
       "      <th>Ranking</th>\n",
       "      <th>County</th>\n",
       "      <th>GDP</th>\n",
       "    </tr>\n",
       "  </thead>\n",
       "  <tbody>\n",
       "    <tr>\n",
       "      <th>0</th>\n",
       "      <td>USA</td>\n",
       "      <td>1</td>\n",
       "      <td>United States</td>\n",
       "      <td>16,244,600</td>\n",
       "    </tr>\n",
       "    <tr>\n",
       "      <th>1</th>\n",
       "      <td>CHN</td>\n",
       "      <td>2</td>\n",
       "      <td>China</td>\n",
       "      <td>8,227,103</td>\n",
       "    </tr>\n",
       "    <tr>\n",
       "      <th>2</th>\n",
       "      <td>JPN</td>\n",
       "      <td>3</td>\n",
       "      <td>Japan</td>\n",
       "      <td>5,959,718</td>\n",
       "    </tr>\n",
       "    <tr>\n",
       "      <th>3</th>\n",
       "      <td>DEU</td>\n",
       "      <td>4</td>\n",
       "      <td>Germany</td>\n",
       "      <td>3,428,131</td>\n",
       "    </tr>\n",
       "    <tr>\n",
       "      <th>4</th>\n",
       "      <td>FRA</td>\n",
       "      <td>5</td>\n",
       "      <td>France</td>\n",
       "      <td>2,612,878</td>\n",
       "    </tr>\n",
       "    <tr>\n",
       "      <th>5</th>\n",
       "      <td>GBR</td>\n",
       "      <td>6</td>\n",
       "      <td>United Kingdom</td>\n",
       "      <td>2,471,784</td>\n",
       "    </tr>\n",
       "    <tr>\n",
       "      <th>6</th>\n",
       "      <td>BRA</td>\n",
       "      <td>7</td>\n",
       "      <td>Brazil</td>\n",
       "      <td>2,252,664</td>\n",
       "    </tr>\n",
       "    <tr>\n",
       "      <th>7</th>\n",
       "      <td>RUS</td>\n",
       "      <td>8</td>\n",
       "      <td>Russian Federation</td>\n",
       "      <td>2,014,775</td>\n",
       "    </tr>\n",
       "    <tr>\n",
       "      <th>8</th>\n",
       "      <td>ITA</td>\n",
       "      <td>9</td>\n",
       "      <td>Italy</td>\n",
       "      <td>2,014,670</td>\n",
       "    </tr>\n",
       "    <tr>\n",
       "      <th>9</th>\n",
       "      <td>IND</td>\n",
       "      <td>10</td>\n",
       "      <td>India</td>\n",
       "      <td>1,841,710</td>\n",
       "    </tr>\n",
       "    <tr>\n",
       "      <th>10</th>\n",
       "      <td>CAN</td>\n",
       "      <td>11</td>\n",
       "      <td>Canada</td>\n",
       "      <td>1,821,424</td>\n",
       "    </tr>\n",
       "  </tbody>\n",
       "</table>\n",
       "</div>"
      ],
      "text/plain": [
       "   CountryCode  Ranking              County           GDP\n",
       "0          USA        1       United States   16,244,600 \n",
       "1          CHN        2               China    8,227,103 \n",
       "2          JPN        3               Japan    5,959,718 \n",
       "3          DEU        4             Germany    3,428,131 \n",
       "4          FRA        5              France    2,612,878 \n",
       "5          GBR        6      United Kingdom    2,471,784 \n",
       "6          BRA        7              Brazil    2,252,664 \n",
       "7          RUS        8  Russian Federation    2,014,775 \n",
       "8          ITA        9               Italy    2,014,670 \n",
       "9          IND       10               India    1,841,710 \n",
       "10         CAN       11              Canada    1,821,424 "
      ]
     },
     "execution_count": 46,
     "metadata": {},
     "output_type": "execute_result"
    }
   ],
   "source": [
    "### Code Starts Here\n",
    "import pandas as pd\n",
    "gdp=pd.read_csv('GDP.csv',encoding='ISO-8859-1',skiprows=5,nrows=190,usecols=[0,1,3,4],header=None)\n",
    "city=pd.read_csv('Country.csv',encoding='ISO-8859-1')\n",
    "gdp.columns=['CountryCode','Ranking','County','GDP']\n",
    "gdp.head(11)"
   ]
  },
  {
   "cell_type": "markdown",
   "metadata": {},
   "source": [
    "- b. Match the data based on the country shortcode. How many of the IDs match? [6 pts]"
   ]
  },
  {
   "cell_type": "code",
   "execution_count": 47,
   "metadata": {},
   "outputs": [
    {
     "name": "stdout",
     "output_type": "stream",
     "text": [
      "189\n"
     ]
    }
   ],
   "source": [
    "### Code Starts Here\n",
    "mer = pd.merge(gdp,city)\n",
    "print(len(match))"
   ]
  },
  {
   "cell_type": "markdown",
   "metadata": {},
   "source": [
    "- c. Sort the data frame in descending order by GDP rank. What is the 13th country in the resulting data frame? (Note: GDP formats as 123,456,789.) [6 pts]"
   ]
  },
  {
   "cell_type": "code",
   "execution_count": 48,
   "metadata": {},
   "outputs": [
    {
     "name": "stdout",
     "output_type": "stream",
     "text": [
      "Spain\n"
     ]
    }
   ],
   "source": [
    "### Code Starts Here\n",
    "mer['GDP'] = mer['GDP'].apply(lambda x: x.replace(\",\", \"\")).astype(\"float64\")\n",
    "mer.sort_values(by='GDP',ascending=False)\n",
    "mer.reset_index()\n",
    "print(match.loc[12,'County'])\n"
   ]
  },
  {
   "cell_type": "markdown",
   "metadata": {},
   "source": [
    "- d. What is the average GDP for the \"High income: OECD\" and \"High income: nonOECD\" group? [6 pts]"
   ]
  },
  {
   "cell_type": "code",
   "execution_count": 49,
   "metadata": {},
   "outputs": [
    {
     "name": "stdout",
     "output_type": "stream",
     "text": [
      "High income: OECD  1483917.1333333333\n",
      "High income: nonOECD  104349.82608695653\n"
     ]
    }
   ],
   "source": [
    "### Code Starts Here\n",
    "oecd = mer['GDP'].groupby(mer['Income Group']).mean()\n",
    "print('High income: OECD ',oecd['High income: OECD'])\n",
    "print('High income: nonOECD ',oecd['High income: nonOECD'])"
   ]
  },
  {
   "cell_type": "markdown",
   "metadata": {},
   "source": [
    "- e. What is the average GDP for different income groups and regions? [6 pts]"
   ]
  },
  {
   "cell_type": "code",
   "execution_count": 50,
   "metadata": {},
   "outputs": [
    {
     "name": "stdout",
     "output_type": "stream",
     "text": [
      "Income Group          Region                    \n",
      "High income: OECD     East Asia & Pacific           2.197268e+06\n",
      "                      Europe & Central Asia         7.567044e+05\n",
      "                      Middle East & North Africa    2.582170e+05\n",
      "                      North America                 9.033012e+06\n",
      "High income: nonOECD  East Asia & Pacific           1.496240e+05\n",
      "                      Europe & Central Asia         2.776660e+04\n",
      "                      Latin America & Caribbean     2.795480e+04\n",
      "                      Middle East & North Africa    2.142531e+05\n",
      "                      North America                 5.474000e+03\n",
      "                      Sub-Saharan Africa            1.769700e+04\n",
      "Low income            East Asia & Pacific           8.154667e+03\n",
      "                      Europe & Central Asia         6.723500e+03\n",
      "                      Latin America & Caribbean     7.843000e+03\n",
      "                      South Asia                    5.193833e+04\n",
      "                      Sub-Saharan Africa            1.184393e+04\n",
      "Lower middle income   East Asia & Pacific           6.604665e+05\n",
      "                      Europe & Central Asia         4.314029e+04\n",
      "                      Latin America & Caribbean     2.710667e+04\n",
      "                      Middle East & North Africa    1.078699e+05\n",
      "                      South Asia                    4.260556e+05\n",
      "                      Sub-Saharan Africa            4.741100e+04\n",
      "Upper middle income   East Asia & Pacific           1.030563e+05\n",
      "                      Europe & Central Asia         2.696185e+05\n",
      "                      Latin America & Caribbean     2.707134e+05\n",
      "                      Middle East & North Africa    2.542647e+05\n",
      "                      Sub-Saharan Africa            7.364683e+04\n",
      "Name: GDP, dtype: float64\n"
     ]
    }
   ],
   "source": [
    "### Code Starts Here\n",
    "region= mer.groupby(['Income Group','Region'])['GDP']\n",
    "print(region.mean())"
   ]
  },
  {
   "cell_type": "code",
   "execution_count": null,
   "metadata": {},
   "outputs": [],
   "source": []
  }
 ],
 "metadata": {
  "kernelspec": {
   "display_name": "Python 3",
   "language": "python",
   "name": "python3"
  },
  "language_info": {
   "codemirror_mode": {
    "name": "ipython",
    "version": 3
   },
   "file_extension": ".py",
   "mimetype": "text/x-python",
   "name": "python",
   "nbconvert_exporter": "python",
   "pygments_lexer": "ipython3",
   "version": "3.8.5"
  }
 },
 "nbformat": 4,
 "nbformat_minor": 4
}
