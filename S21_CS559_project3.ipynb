{
 "cells": [
  {
   "cell_type": "code",
   "execution_count": 71,
   "metadata": {},
   "outputs": [],
   "source": [
    "import pandas as pd\n",
    "import numpy as np\n",
    "import os\n",
    "import sys\n",
    "import pickle\n",
    "import json\n",
    "import matplotlib.pyplot as plt\n",
    "import seaborn as sns\n",
    "%matplotlib notebook\n",
    "import tqdm\n",
    "import warnings\n",
    "warnings.filterwarnings(\"ignore\")"
   ]
  },
  {
   "cell_type": "code",
   "execution_count": 72,
   "metadata": {},
   "outputs": [],
   "source": [
    "data = pd.read_csv(\"./train_2016.csv\")\n",
    "properties = pd.read_csv(\"./properties_2016.csv\")"
   ]
  },
  {
   "cell_type": "code",
   "execution_count": 73,
   "metadata": {},
   "outputs": [
    {
     "data": {
      "text/plain": [
       "Index(['parcelid', 'airconditioningtypeid', 'architecturalstyletypeid',\n",
       "       'basementsqft', 'bathroomcnt', 'bedroomcnt', 'buildingclasstypeid',\n",
       "       'buildingqualitytypeid', 'calculatedbathnbr', 'decktypeid',\n",
       "       'finishedfloor1squarefeet', 'calculatedfinishedsquarefeet',\n",
       "       'finishedsquarefeet12', 'finishedsquarefeet13', 'finishedsquarefeet15',\n",
       "       'finishedsquarefeet50', 'finishedsquarefeet6', 'fips', 'fireplacecnt',\n",
       "       'fullbathcnt', 'garagecarcnt', 'garagetotalsqft', 'hashottuborspa',\n",
       "       'heatingorsystemtypeid', 'latitude', 'longitude', 'lotsizesquarefeet',\n",
       "       'poolcnt', 'poolsizesum', 'pooltypeid10', 'pooltypeid2', 'pooltypeid7',\n",
       "       'propertycountylandusecode', 'propertylandusetypeid',\n",
       "       'propertyzoningdesc', 'rawcensustractandblock', 'regionidcity',\n",
       "       'regionidcounty', 'regionidneighborhood', 'regionidzip', 'roomcnt',\n",
       "       'storytypeid', 'threequarterbathnbr', 'typeconstructiontypeid',\n",
       "       'unitcnt', 'yardbuildingsqft17', 'yardbuildingsqft26', 'yearbuilt',\n",
       "       'numberofstories', 'fireplaceflag', 'structuretaxvaluedollarcnt',\n",
       "       'taxvaluedollarcnt', 'assessmentyear', 'landtaxvaluedollarcnt',\n",
       "       'taxamount', 'taxdelinquencyflag', 'taxdelinquencyyear',\n",
       "       'censustractandblock'],\n",
       "      dtype='object')"
      ]
     },
     "execution_count": 73,
     "metadata": {},
     "output_type": "execute_result"
    }
   ],
   "source": [
    "properties.columns"
   ]
  },
  {
   "cell_type": "markdown",
   "metadata": {},
   "source": [
    "•\tDetermine the number of missing values on each feature. Determine the parceled that has the greatest number of missing features. You do not drop the feature unless a particular feature has missing value ratio more than 90%. "
   ]
  },
  {
   "cell_type": "code",
   "execution_count": 74,
   "metadata": {},
   "outputs": [],
   "source": [
    "missing_rate = properties.isna().sum() / len(properties) # get each feature missing rate "
   ]
  },
  {
   "cell_type": "code",
   "execution_count": 75,
   "metadata": {},
   "outputs": [],
   "source": [
    "missing_rate_more_90 = missing_rate[missing_rate > 0.9]"
   ]
  },
  {
   "cell_type": "code",
   "execution_count": 76,
   "metadata": {},
   "outputs": [],
   "source": [
    "# drop more than 90 \n",
    "properties.drop(list(missing_rate_more_90.keys()),axis=1,inplace=True)"
   ]
  },
  {
   "cell_type": "code",
   "execution_count": 77,
   "metadata": {},
   "outputs": [],
   "source": [
    "missing_rate.drop(list(missing_rate_more_90.keys()),inplace=True)"
   ]
  },
  {
   "cell_type": "code",
   "execution_count": 78,
   "metadata": {},
   "outputs": [],
   "source": [
    "missing_rate_more_50 = missing_rate[missing_rate>=0.5]"
   ]
  },
  {
   "cell_type": "code",
   "execution_count": 79,
   "metadata": {},
   "outputs": [],
   "source": [
    "dftypes=properties.dtypes"
   ]
  },
  {
   "cell_type": "code",
   "execution_count": 80,
   "metadata": {},
   "outputs": [],
   "source": [
    "missing_rate.drop(missing_rate[missing_rate==0].keys(),inplace=True)"
   ]
  },
  {
   "cell_type": "code",
   "execution_count": 81,
   "metadata": {},
   "outputs": [],
   "source": [
    "# object : bfill and ffill\n",
    "# float: choose the mode value\n",
    "missing_object = missing_rate[dftypes[missing_rate.keys()]==object].keys()\n",
    "# properties[missing_object]\n",
    "properties[missing_object] = properties[missing_object].fillna(method='bfill').fillna(method='ffill')"
   ]
  },
  {
   "cell_type": "code",
   "execution_count": 82,
   "metadata": {},
   "outputs": [],
   "source": [
    "missing_object_float =missing_rate[dftypes[missing_rate.keys()]==np.float].keys()"
   ]
  },
  {
   "cell_type": "code",
   "execution_count": 83,
   "metadata": {},
   "outputs": [],
   "source": [
    "for each_miss in missing_object_float:\n",
    "    properties[each_miss] = properties[each_miss].fillna(properties[each_miss].mode()[0])"
   ]
  },
  {
   "cell_type": "markdown",
   "metadata": {},
   "source": [
    "#### Determine the number of cities in each county"
   ]
  },
  {
   "cell_type": "code",
   "execution_count": 84,
   "metadata": {},
   "outputs": [
    {
     "data": {
      "text/plain": [
       "Index(['parcelid', 'airconditioningtypeid', 'bathroomcnt', 'bedroomcnt',\n",
       "       'buildingqualitytypeid', 'calculatedbathnbr',\n",
       "       'calculatedfinishedsquarefeet', 'finishedsquarefeet12', 'fips',\n",
       "       'fireplacecnt', 'fullbathcnt', 'garagecarcnt', 'garagetotalsqft',\n",
       "       'heatingorsystemtypeid', 'latitude', 'longitude', 'lotsizesquarefeet',\n",
       "       'poolcnt', 'pooltypeid7', 'propertycountylandusecode',\n",
       "       'propertylandusetypeid', 'propertyzoningdesc', 'rawcensustractandblock',\n",
       "       'regionidcity', 'regionidcounty', 'regionidneighborhood', 'regionidzip',\n",
       "       'roomcnt', 'threequarterbathnbr', 'unitcnt', 'yearbuilt',\n",
       "       'numberofstories', 'structuretaxvaluedollarcnt', 'taxvaluedollarcnt',\n",
       "       'assessmentyear', 'landtaxvaluedollarcnt', 'taxamount',\n",
       "       'censustractandblock'],\n",
       "      dtype='object')"
      ]
     },
     "execution_count": 84,
     "metadata": {},
     "output_type": "execute_result"
    }
   ],
   "source": [
    "properties.columns"
   ]
  },
  {
   "cell_type": "code",
   "execution_count": 85,
   "metadata": {},
   "outputs": [],
   "source": [
    "temp = properties.groupby(['regionidcounty'])['regionidcity']"
   ]
  },
  {
   "cell_type": "code",
   "execution_count": 86,
   "metadata": {},
   "outputs": [],
   "source": [
    "dict_cities_country = {}\n",
    "for i in temp:\n",
    "    dict_cities_country[i[0]] = len(i[1].value_counts())"
   ]
  },
  {
   "cell_type": "code",
   "execution_count": 87,
   "metadata": {},
   "outputs": [
    {
     "data": {
      "text/plain": [
       "{1286.0: 45, 2061.0: 23, 3101.0: 135}"
      ]
     },
     "execution_count": 87,
     "metadata": {},
     "output_type": "execute_result"
    }
   ],
   "source": [
    "dict_cities_country"
   ]
  },
  {
   "cell_type": "markdown",
   "metadata": {},
   "source": [
    "- county id 1286: 45 cites   \n",
    "- county id 2061: 23 cites \n",
    "- county id 3101: 135 cites"
   ]
  },
  {
   "cell_type": "markdown",
   "metadata": {},
   "source": [
    "#### •\tDetermine which county has the highest and lowest logerrors in each city."
   ]
  },
  {
   "cell_type": "code",
   "execution_count": 88,
   "metadata": {},
   "outputs": [
    {
     "data": {
      "text/html": [
       "<div>\n",
       "<style scoped>\n",
       "    .dataframe tbody tr th:only-of-type {\n",
       "        vertical-align: middle;\n",
       "    }\n",
       "\n",
       "    .dataframe tbody tr th {\n",
       "        vertical-align: top;\n",
       "    }\n",
       "\n",
       "    .dataframe thead th {\n",
       "        text-align: right;\n",
       "    }\n",
       "</style>\n",
       "<table border=\"1\" class=\"dataframe\">\n",
       "  <thead>\n",
       "    <tr style=\"text-align: right;\">\n",
       "      <th></th>\n",
       "      <th>parcelid</th>\n",
       "      <th>logerror</th>\n",
       "      <th>transactiondate</th>\n",
       "    </tr>\n",
       "  </thead>\n",
       "  <tbody>\n",
       "    <tr>\n",
       "      <th>0</th>\n",
       "      <td>11016594</td>\n",
       "      <td>0.0276</td>\n",
       "      <td>2016-01-01</td>\n",
       "    </tr>\n",
       "    <tr>\n",
       "      <th>1</th>\n",
       "      <td>14366692</td>\n",
       "      <td>-0.1684</td>\n",
       "      <td>2016-01-01</td>\n",
       "    </tr>\n",
       "    <tr>\n",
       "      <th>2</th>\n",
       "      <td>12098116</td>\n",
       "      <td>-0.0040</td>\n",
       "      <td>2016-01-01</td>\n",
       "    </tr>\n",
       "    <tr>\n",
       "      <th>3</th>\n",
       "      <td>12643413</td>\n",
       "      <td>0.0218</td>\n",
       "      <td>2016-01-02</td>\n",
       "    </tr>\n",
       "    <tr>\n",
       "      <th>4</th>\n",
       "      <td>14432541</td>\n",
       "      <td>-0.0050</td>\n",
       "      <td>2016-01-02</td>\n",
       "    </tr>\n",
       "  </tbody>\n",
       "</table>\n",
       "</div>"
      ],
      "text/plain": [
       "   parcelid  logerror transactiondate\n",
       "0  11016594    0.0276      2016-01-01\n",
       "1  14366692   -0.1684      2016-01-01\n",
       "2  12098116   -0.0040      2016-01-01\n",
       "3  12643413    0.0218      2016-01-02\n",
       "4  14432541   -0.0050      2016-01-02"
      ]
     },
     "execution_count": 88,
     "metadata": {},
     "output_type": "execute_result"
    }
   ],
   "source": [
    "data.head()"
   ]
  },
  {
   "cell_type": "code",
   "execution_count": 89,
   "metadata": {},
   "outputs": [],
   "source": [
    "ids = [data.logerror.idxmax(),data.logerror.idxmin()]"
   ]
  },
  {
   "cell_type": "code",
   "execution_count": 90,
   "metadata": {},
   "outputs": [],
   "source": [
    "parcelid_ids = data['parcelid'][[7318, 6416]]"
   ]
  },
  {
   "cell_type": "code",
   "execution_count": 91,
   "metadata": {},
   "outputs": [
    {
     "data": {
      "text/plain": [
       "7318    11617445\n",
       "6416    12728547\n",
       "Name: parcelid, dtype: int64"
      ]
     },
     "execution_count": 91,
     "metadata": {},
     "output_type": "execute_result"
    }
   ],
   "source": [
    "parcelid_ids"
   ]
  },
  {
   "cell_type": "code",
   "execution_count": 92,
   "metadata": {},
   "outputs": [
    {
     "data": {
      "text/plain": [
       "array([11617445, 12728547], dtype=int64)"
      ]
     },
     "execution_count": 92,
     "metadata": {},
     "output_type": "execute_result"
    }
   ],
   "source": [
    "parcelid_ids.values"
   ]
  },
  {
   "cell_type": "code",
   "execution_count": 93,
   "metadata": {},
   "outputs": [
    {
     "data": {
      "text/plain": [
       "1228147    3101.0\n",
       "1546144    3101.0\n",
       "Name: regionidcounty, dtype: float64"
      ]
     },
     "execution_count": 93,
     "metadata": {},
     "output_type": "execute_result"
    }
   ],
   "source": [
    "properties[properties['parcelid'].isin(parcelid_ids.values)]['regionidcounty']"
   ]
  },
  {
   "cell_type": "markdown",
   "metadata": {},
   "source": [
    "country id 3101 has the highest and lowest logerrors"
   ]
  },
  {
   "cell_type": "markdown",
   "metadata": {},
   "source": [
    "####  •\tDetermine any outliers. "
   ]
  },
  {
   "cell_type": "code",
   "execution_count": 94,
   "metadata": {},
   "outputs": [],
   "source": [
    "detect_feature =  properties['finishedsquarefeet12']"
   ]
  },
  {
   "cell_type": "code",
   "execution_count": 95,
   "metadata": {},
   "outputs": [
    {
     "data": {
      "text/plain": [
       "(1730.4112253816054, 929.7097657592739)"
      ]
     },
     "execution_count": 95,
     "metadata": {},
     "output_type": "execute_result"
    }
   ],
   "source": [
    "df_mean = detect_feature.mean()\n",
    "df_std  = detect_feature.std()\n",
    "df_mean,df_std"
   ]
  },
  {
   "cell_type": "code",
   "execution_count": 96,
   "metadata": {},
   "outputs": [],
   "source": [
    "outliers_less = detect_feature[detect_feature < df_mean -3*df_std]\n",
    "outliers_more = detect_feature[detect_feature > df_mean +3*df_std]"
   ]
  },
  {
   "cell_type": "code",
   "execution_count": 97,
   "metadata": {},
   "outputs": [
    {
     "data": {
      "text/plain": [
       "(0, 41002)"
      ]
     },
     "execution_count": 97,
     "metadata": {},
     "output_type": "execute_result"
    }
   ],
   "source": [
    "len(outliers_less),len(outliers_more)"
   ]
  },
  {
   "cell_type": "code",
   "execution_count": 98,
   "metadata": {},
   "outputs": [],
   "source": [
    "properties.drop(list(outliers_more[:20].keys()),axis=0,inplace=True)"
   ]
  },
  {
   "cell_type": "markdown",
   "metadata": {},
   "source": [
    "Choose one feature to detect feature outlier"
   ]
  },
  {
   "cell_type": "markdown",
   "metadata": {},
   "source": [
    "#####  There are total of 17 columns containing column names with ‘id’. Referring to the data dictionary, which id’s can be eliminated? Justify your reasons.  "
   ]
  },
  {
   "cell_type": "code",
   "execution_count": 99,
   "metadata": {},
   "outputs": [],
   "source": [
    "allcolumns = properties.columns.tolist()"
   ]
  },
  {
   "cell_type": "code",
   "execution_count": 100,
   "metadata": {},
   "outputs": [],
   "source": [
    "all_id_columns = [i for i in allcolumns if \"id\" in i]"
   ]
  },
  {
   "cell_type": "code",
   "execution_count": 101,
   "metadata": {},
   "outputs": [
    {
     "data": {
      "text/plain": [
       "10"
      ]
     },
     "execution_count": 101,
     "metadata": {},
     "output_type": "execute_result"
    }
   ],
   "source": [
    "len(all_id_columns)"
   ]
  },
  {
   "cell_type": "code",
   "execution_count": 102,
   "metadata": {},
   "outputs": [
    {
     "data": {
      "text/plain": [
       "38"
      ]
     },
     "execution_count": 102,
     "metadata": {},
     "output_type": "execute_result"
    }
   ],
   "source": [
    "len(allcolumns)"
   ]
  },
  {
   "cell_type": "code",
   "execution_count": 103,
   "metadata": {},
   "outputs": [
    {
     "name": "stdout",
     "output_type": "stream",
     "text": [
      "['parcelid', 'airconditioningtypeid', 'buildingqualitytypeid', 'heatingorsystemtypeid', 'pooltypeid7', 'propertylandusetypeid', 'regionidcity', 'regionidcounty', 'regionidneighborhood', 'regionidzip']\n"
     ]
    }
   ],
   "source": [
    "print(all_id_columns)"
   ]
  },
  {
   "cell_type": "markdown",
   "metadata": {},
   "source": [
    "`regionidzip` can be removed, because the zip code can be replaced by others. And other id feature like `pooltypeid2` has more than 90% missing value and has been droped."
   ]
  },
  {
   "cell_type": "markdown",
   "metadata": {},
   "source": [
    "#### •\tDetermine the correlations between the size and the room numbers."
   ]
  },
  {
   "cell_type": "code",
   "execution_count": 104,
   "metadata": {
    "code_folding": []
   },
   "outputs": [],
   "source": [
    "# 'finishedsquarefeet15','roomcnt'\n",
    "# room = properties_bp['roomcnt']\n",
    "# size = properties_bp['finishedsquarefeet15']\n",
    "room_size = properties[['roomcnt','finishedsquarefeet12']]"
   ]
  },
  {
   "cell_type": "code",
   "execution_count": 105,
   "metadata": {},
   "outputs": [
    {
     "data": {
      "text/html": [
       "<div>\n",
       "<style scoped>\n",
       "    .dataframe tbody tr th:only-of-type {\n",
       "        vertical-align: middle;\n",
       "    }\n",
       "\n",
       "    .dataframe tbody tr th {\n",
       "        vertical-align: top;\n",
       "    }\n",
       "\n",
       "    .dataframe thead th {\n",
       "        text-align: right;\n",
       "    }\n",
       "</style>\n",
       "<table border=\"1\" class=\"dataframe\">\n",
       "  <thead>\n",
       "    <tr style=\"text-align: right;\">\n",
       "      <th></th>\n",
       "      <th>roomcnt</th>\n",
       "      <th>finishedsquarefeet12</th>\n",
       "    </tr>\n",
       "  </thead>\n",
       "  <tbody>\n",
       "    <tr>\n",
       "      <th>roomcnt</th>\n",
       "      <td>1.000000</td>\n",
       "      <td>0.152955</td>\n",
       "    </tr>\n",
       "    <tr>\n",
       "      <th>finishedsquarefeet12</th>\n",
       "      <td>0.152955</td>\n",
       "      <td>1.000000</td>\n",
       "    </tr>\n",
       "  </tbody>\n",
       "</table>\n",
       "</div>"
      ],
      "text/plain": [
       "                       roomcnt  finishedsquarefeet12\n",
       "roomcnt               1.000000              0.152955\n",
       "finishedsquarefeet12  0.152955              1.000000"
      ]
     },
     "execution_count": 105,
     "metadata": {},
     "output_type": "execute_result"
    }
   ],
   "source": [
    "room_size.corr('spearman')"
   ]
  },
  {
   "cell_type": "markdown",
   "metadata": {},
   "source": [
    "Correlations is 0.15"
   ]
  },
  {
   "cell_type": "markdown",
   "metadata": {},
   "source": [
    "#### •\tSplit the dataset to 80-20% for train and test sets. Show the distributions of log-error by counties. "
   ]
  },
  {
   "cell_type": "code",
   "execution_count": 106,
   "metadata": {},
   "outputs": [],
   "source": [
    "dataset = pd.merge(data,properties,on='parcelid',how='left')"
   ]
  },
  {
   "cell_type": "code",
   "execution_count": 107,
   "metadata": {},
   "outputs": [
    {
     "data": {
      "text/html": [
       "<div>\n",
       "<style scoped>\n",
       "    .dataframe tbody tr th:only-of-type {\n",
       "        vertical-align: middle;\n",
       "    }\n",
       "\n",
       "    .dataframe tbody tr th {\n",
       "        vertical-align: top;\n",
       "    }\n",
       "\n",
       "    .dataframe thead th {\n",
       "        text-align: right;\n",
       "    }\n",
       "</style>\n",
       "<table border=\"1\" class=\"dataframe\">\n",
       "  <thead>\n",
       "    <tr style=\"text-align: right;\">\n",
       "      <th></th>\n",
       "      <th>parcelid</th>\n",
       "      <th>logerror</th>\n",
       "      <th>transactiondate</th>\n",
       "      <th>airconditioningtypeid</th>\n",
       "      <th>bathroomcnt</th>\n",
       "      <th>bedroomcnt</th>\n",
       "      <th>buildingqualitytypeid</th>\n",
       "      <th>calculatedbathnbr</th>\n",
       "      <th>calculatedfinishedsquarefeet</th>\n",
       "      <th>finishedsquarefeet12</th>\n",
       "      <th>...</th>\n",
       "      <th>threequarterbathnbr</th>\n",
       "      <th>unitcnt</th>\n",
       "      <th>yearbuilt</th>\n",
       "      <th>numberofstories</th>\n",
       "      <th>structuretaxvaluedollarcnt</th>\n",
       "      <th>taxvaluedollarcnt</th>\n",
       "      <th>assessmentyear</th>\n",
       "      <th>landtaxvaluedollarcnt</th>\n",
       "      <th>taxamount</th>\n",
       "      <th>censustractandblock</th>\n",
       "    </tr>\n",
       "  </thead>\n",
       "  <tbody>\n",
       "    <tr>\n",
       "      <th>0</th>\n",
       "      <td>11016594</td>\n",
       "      <td>0.0276</td>\n",
       "      <td>2016-01-01</td>\n",
       "      <td>1.0</td>\n",
       "      <td>2.0</td>\n",
       "      <td>3.0</td>\n",
       "      <td>4.0</td>\n",
       "      <td>2.0</td>\n",
       "      <td>1684.0</td>\n",
       "      <td>1684.0</td>\n",
       "      <td>...</td>\n",
       "      <td>1.0</td>\n",
       "      <td>1.0</td>\n",
       "      <td>1959.0</td>\n",
       "      <td>1.0</td>\n",
       "      <td>122754.0</td>\n",
       "      <td>360170.0</td>\n",
       "      <td>2015.0</td>\n",
       "      <td>237416.0</td>\n",
       "      <td>6735.88</td>\n",
       "      <td>6.037107e+13</td>\n",
       "    </tr>\n",
       "    <tr>\n",
       "      <th>1</th>\n",
       "      <td>14366692</td>\n",
       "      <td>-0.1684</td>\n",
       "      <td>2016-01-01</td>\n",
       "      <td>1.0</td>\n",
       "      <td>3.5</td>\n",
       "      <td>4.0</td>\n",
       "      <td>7.0</td>\n",
       "      <td>3.5</td>\n",
       "      <td>2263.0</td>\n",
       "      <td>2263.0</td>\n",
       "      <td>...</td>\n",
       "      <td>1.0</td>\n",
       "      <td>1.0</td>\n",
       "      <td>2014.0</td>\n",
       "      <td>1.0</td>\n",
       "      <td>346458.0</td>\n",
       "      <td>585529.0</td>\n",
       "      <td>2015.0</td>\n",
       "      <td>239071.0</td>\n",
       "      <td>10153.02</td>\n",
       "      <td>6.037920e+13</td>\n",
       "    </tr>\n",
       "    <tr>\n",
       "      <th>2</th>\n",
       "      <td>12098116</td>\n",
       "      <td>-0.0040</td>\n",
       "      <td>2016-01-01</td>\n",
       "      <td>1.0</td>\n",
       "      <td>3.0</td>\n",
       "      <td>2.0</td>\n",
       "      <td>4.0</td>\n",
       "      <td>3.0</td>\n",
       "      <td>2217.0</td>\n",
       "      <td>2217.0</td>\n",
       "      <td>...</td>\n",
       "      <td>1.0</td>\n",
       "      <td>1.0</td>\n",
       "      <td>1940.0</td>\n",
       "      <td>1.0</td>\n",
       "      <td>61994.0</td>\n",
       "      <td>119906.0</td>\n",
       "      <td>2015.0</td>\n",
       "      <td>57912.0</td>\n",
       "      <td>11484.48</td>\n",
       "      <td>6.037464e+13</td>\n",
       "    </tr>\n",
       "    <tr>\n",
       "      <th>3</th>\n",
       "      <td>12643413</td>\n",
       "      <td>0.0218</td>\n",
       "      <td>2016-01-02</td>\n",
       "      <td>1.0</td>\n",
       "      <td>2.0</td>\n",
       "      <td>2.0</td>\n",
       "      <td>4.0</td>\n",
       "      <td>2.0</td>\n",
       "      <td>839.0</td>\n",
       "      <td>839.0</td>\n",
       "      <td>...</td>\n",
       "      <td>1.0</td>\n",
       "      <td>1.0</td>\n",
       "      <td>1987.0</td>\n",
       "      <td>1.0</td>\n",
       "      <td>171518.0</td>\n",
       "      <td>244880.0</td>\n",
       "      <td>2015.0</td>\n",
       "      <td>73362.0</td>\n",
       "      <td>3048.74</td>\n",
       "      <td>6.037296e+13</td>\n",
       "    </tr>\n",
       "    <tr>\n",
       "      <th>4</th>\n",
       "      <td>14432541</td>\n",
       "      <td>-0.0050</td>\n",
       "      <td>2016-01-02</td>\n",
       "      <td>1.0</td>\n",
       "      <td>2.5</td>\n",
       "      <td>4.0</td>\n",
       "      <td>7.0</td>\n",
       "      <td>2.5</td>\n",
       "      <td>2283.0</td>\n",
       "      <td>2283.0</td>\n",
       "      <td>...</td>\n",
       "      <td>1.0</td>\n",
       "      <td>1.0</td>\n",
       "      <td>1981.0</td>\n",
       "      <td>2.0</td>\n",
       "      <td>169574.0</td>\n",
       "      <td>434551.0</td>\n",
       "      <td>2015.0</td>\n",
       "      <td>264977.0</td>\n",
       "      <td>5488.96</td>\n",
       "      <td>6.059042e+13</td>\n",
       "    </tr>\n",
       "  </tbody>\n",
       "</table>\n",
       "<p>5 rows × 40 columns</p>\n",
       "</div>"
      ],
      "text/plain": [
       "   parcelid  logerror transactiondate  airconditioningtypeid  bathroomcnt  \\\n",
       "0  11016594    0.0276      2016-01-01                    1.0          2.0   \n",
       "1  14366692   -0.1684      2016-01-01                    1.0          3.5   \n",
       "2  12098116   -0.0040      2016-01-01                    1.0          3.0   \n",
       "3  12643413    0.0218      2016-01-02                    1.0          2.0   \n",
       "4  14432541   -0.0050      2016-01-02                    1.0          2.5   \n",
       "\n",
       "   bedroomcnt  buildingqualitytypeid  calculatedbathnbr  \\\n",
       "0         3.0                    4.0                2.0   \n",
       "1         4.0                    7.0                3.5   \n",
       "2         2.0                    4.0                3.0   \n",
       "3         2.0                    4.0                2.0   \n",
       "4         4.0                    7.0                2.5   \n",
       "\n",
       "   calculatedfinishedsquarefeet  finishedsquarefeet12  ...  \\\n",
       "0                        1684.0                1684.0  ...   \n",
       "1                        2263.0                2263.0  ...   \n",
       "2                        2217.0                2217.0  ...   \n",
       "3                         839.0                 839.0  ...   \n",
       "4                        2283.0                2283.0  ...   \n",
       "\n",
       "   threequarterbathnbr  unitcnt  yearbuilt  numberofstories  \\\n",
       "0                  1.0      1.0     1959.0              1.0   \n",
       "1                  1.0      1.0     2014.0              1.0   \n",
       "2                  1.0      1.0     1940.0              1.0   \n",
       "3                  1.0      1.0     1987.0              1.0   \n",
       "4                  1.0      1.0     1981.0              2.0   \n",
       "\n",
       "   structuretaxvaluedollarcnt  taxvaluedollarcnt  assessmentyear  \\\n",
       "0                    122754.0           360170.0          2015.0   \n",
       "1                    346458.0           585529.0          2015.0   \n",
       "2                     61994.0           119906.0          2015.0   \n",
       "3                    171518.0           244880.0          2015.0   \n",
       "4                    169574.0           434551.0          2015.0   \n",
       "\n",
       "   landtaxvaluedollarcnt  taxamount  censustractandblock  \n",
       "0               237416.0    6735.88         6.037107e+13  \n",
       "1               239071.0   10153.02         6.037920e+13  \n",
       "2                57912.0   11484.48         6.037464e+13  \n",
       "3                73362.0    3048.74         6.037296e+13  \n",
       "4               264977.0    5488.96         6.059042e+13  \n",
       "\n",
       "[5 rows x 40 columns]"
      ]
     },
     "execution_count": 107,
     "metadata": {},
     "output_type": "execute_result"
    }
   ],
   "source": [
    "dataset.head()"
   ]
  },
  {
   "cell_type": "code",
   "execution_count": 108,
   "metadata": {},
   "outputs": [
    {
     "data": {
      "text/plain": [
       "parcelid                          int64\n",
       "logerror                        float64\n",
       "transactiondate                  object\n",
       "airconditioningtypeid           float64\n",
       "bathroomcnt                     float64\n",
       "bedroomcnt                      float64\n",
       "buildingqualitytypeid           float64\n",
       "calculatedbathnbr               float64\n",
       "calculatedfinishedsquarefeet    float64\n",
       "finishedsquarefeet12            float64\n",
       "fips                            float64\n",
       "fireplacecnt                    float64\n",
       "fullbathcnt                     float64\n",
       "garagecarcnt                    float64\n",
       "garagetotalsqft                 float64\n",
       "heatingorsystemtypeid           float64\n",
       "latitude                        float64\n",
       "longitude                       float64\n",
       "lotsizesquarefeet               float64\n",
       "poolcnt                         float64\n",
       "pooltypeid7                     float64\n",
       "propertycountylandusecode        object\n",
       "propertylandusetypeid           float64\n",
       "propertyzoningdesc               object\n",
       "rawcensustractandblock          float64\n",
       "regionidcity                    float64\n",
       "regionidcounty                  float64\n",
       "regionidneighborhood            float64\n",
       "regionidzip                     float64\n",
       "roomcnt                         float64\n",
       "threequarterbathnbr             float64\n",
       "unitcnt                         float64\n",
       "yearbuilt                       float64\n",
       "numberofstories                 float64\n",
       "structuretaxvaluedollarcnt      float64\n",
       "taxvaluedollarcnt               float64\n",
       "assessmentyear                  float64\n",
       "landtaxvaluedollarcnt           float64\n",
       "taxamount                       float64\n",
       "censustractandblock             float64\n",
       "dtype: object"
      ]
     },
     "execution_count": 108,
     "metadata": {},
     "output_type": "execute_result"
    }
   ],
   "source": [
    "dataset.fillna(method='ffill',inplace=True)\n",
    "dataset.dtypes"
   ]
  },
  {
   "cell_type": "code",
   "execution_count": 109,
   "metadata": {},
   "outputs": [],
   "source": [
    "from sklearn.model_selection import train_test_split\n",
    "Y = dataset['logerror']\n",
    "X = dataset[[i for i in dataset.columns if i not in [\"logerror\",\"parcelid\",\"transactiondate\",\"propertycountylandusecode\",\"propertyzoningdesc\"]]]"
   ]
  },
  {
   "cell_type": "code",
   "execution_count": 110,
   "metadata": {},
   "outputs": [],
   "source": [
    "x_train,x_test,y_train,y_test = train_test_split(X,Y,test_size=0.2)"
   ]
  },
  {
   "cell_type": "code",
   "execution_count": 111,
   "metadata": {},
   "outputs": [
    {
     "data": {
      "application/javascript": [
       "/* Put everything inside the global mpl namespace */\n",
       "/* global mpl */\n",
       "window.mpl = {};\n",
       "\n",
       "mpl.get_websocket_type = function () {\n",
       "    if (typeof WebSocket !== 'undefined') {\n",
       "        return WebSocket;\n",
       "    } else if (typeof MozWebSocket !== 'undefined') {\n",
       "        return MozWebSocket;\n",
       "    } else {\n",
       "        alert(\n",
       "            'Your browser does not have WebSocket support. ' +\n",
       "                'Please try Chrome, Safari or Firefox ≥ 6. ' +\n",
       "                'Firefox 4 and 5 are also supported but you ' +\n",
       "                'have to enable WebSockets in about:config.'\n",
       "        );\n",
       "    }\n",
       "};\n",
       "\n",
       "mpl.figure = function (figure_id, websocket, ondownload, parent_element) {\n",
       "    this.id = figure_id;\n",
       "\n",
       "    this.ws = websocket;\n",
       "\n",
       "    this.supports_binary = this.ws.binaryType !== undefined;\n",
       "\n",
       "    if (!this.supports_binary) {\n",
       "        var warnings = document.getElementById('mpl-warnings');\n",
       "        if (warnings) {\n",
       "            warnings.style.display = 'block';\n",
       "            warnings.textContent =\n",
       "                'This browser does not support binary websocket messages. ' +\n",
       "                'Performance may be slow.';\n",
       "        }\n",
       "    }\n",
       "\n",
       "    this.imageObj = new Image();\n",
       "\n",
       "    this.context = undefined;\n",
       "    this.message = undefined;\n",
       "    this.canvas = undefined;\n",
       "    this.rubberband_canvas = undefined;\n",
       "    this.rubberband_context = undefined;\n",
       "    this.format_dropdown = undefined;\n",
       "\n",
       "    this.image_mode = 'full';\n",
       "\n",
       "    this.root = document.createElement('div');\n",
       "    this.root.setAttribute('style', 'display: inline-block');\n",
       "    this._root_extra_style(this.root);\n",
       "\n",
       "    parent_element.appendChild(this.root);\n",
       "\n",
       "    this._init_header(this);\n",
       "    this._init_canvas(this);\n",
       "    this._init_toolbar(this);\n",
       "\n",
       "    var fig = this;\n",
       "\n",
       "    this.waiting = false;\n",
       "\n",
       "    this.ws.onopen = function () {\n",
       "        fig.send_message('supports_binary', { value: fig.supports_binary });\n",
       "        fig.send_message('send_image_mode', {});\n",
       "        if (fig.ratio !== 1) {\n",
       "            fig.send_message('set_dpi_ratio', { dpi_ratio: fig.ratio });\n",
       "        }\n",
       "        fig.send_message('refresh', {});\n",
       "    };\n",
       "\n",
       "    this.imageObj.onload = function () {\n",
       "        if (fig.image_mode === 'full') {\n",
       "            // Full images could contain transparency (where diff images\n",
       "            // almost always do), so we need to clear the canvas so that\n",
       "            // there is no ghosting.\n",
       "            fig.context.clearRect(0, 0, fig.canvas.width, fig.canvas.height);\n",
       "        }\n",
       "        fig.context.drawImage(fig.imageObj, 0, 0);\n",
       "    };\n",
       "\n",
       "    this.imageObj.onunload = function () {\n",
       "        fig.ws.close();\n",
       "    };\n",
       "\n",
       "    this.ws.onmessage = this._make_on_message_function(this);\n",
       "\n",
       "    this.ondownload = ondownload;\n",
       "};\n",
       "\n",
       "mpl.figure.prototype._init_header = function () {\n",
       "    var titlebar = document.createElement('div');\n",
       "    titlebar.classList =\n",
       "        'ui-dialog-titlebar ui-widget-header ui-corner-all ui-helper-clearfix';\n",
       "    var titletext = document.createElement('div');\n",
       "    titletext.classList = 'ui-dialog-title';\n",
       "    titletext.setAttribute(\n",
       "        'style',\n",
       "        'width: 100%; text-align: center; padding: 3px;'\n",
       "    );\n",
       "    titlebar.appendChild(titletext);\n",
       "    this.root.appendChild(titlebar);\n",
       "    this.header = titletext;\n",
       "};\n",
       "\n",
       "mpl.figure.prototype._canvas_extra_style = function (_canvas_div) {};\n",
       "\n",
       "mpl.figure.prototype._root_extra_style = function (_canvas_div) {};\n",
       "\n",
       "mpl.figure.prototype._init_canvas = function () {\n",
       "    var fig = this;\n",
       "\n",
       "    var canvas_div = (this.canvas_div = document.createElement('div'));\n",
       "    canvas_div.setAttribute(\n",
       "        'style',\n",
       "        'border: 1px solid #ddd;' +\n",
       "            'box-sizing: content-box;' +\n",
       "            'clear: both;' +\n",
       "            'min-height: 1px;' +\n",
       "            'min-width: 1px;' +\n",
       "            'outline: 0;' +\n",
       "            'overflow: hidden;' +\n",
       "            'position: relative;' +\n",
       "            'resize: both;'\n",
       "    );\n",
       "\n",
       "    function on_keyboard_event_closure(name) {\n",
       "        return function (event) {\n",
       "            return fig.key_event(event, name);\n",
       "        };\n",
       "    }\n",
       "\n",
       "    canvas_div.addEventListener(\n",
       "        'keydown',\n",
       "        on_keyboard_event_closure('key_press')\n",
       "    );\n",
       "    canvas_div.addEventListener(\n",
       "        'keyup',\n",
       "        on_keyboard_event_closure('key_release')\n",
       "    );\n",
       "\n",
       "    this._canvas_extra_style(canvas_div);\n",
       "    this.root.appendChild(canvas_div);\n",
       "\n",
       "    var canvas = (this.canvas = document.createElement('canvas'));\n",
       "    canvas.classList.add('mpl-canvas');\n",
       "    canvas.setAttribute('style', 'box-sizing: content-box;');\n",
       "\n",
       "    this.context = canvas.getContext('2d');\n",
       "\n",
       "    var backingStore =\n",
       "        this.context.backingStorePixelRatio ||\n",
       "        this.context.webkitBackingStorePixelRatio ||\n",
       "        this.context.mozBackingStorePixelRatio ||\n",
       "        this.context.msBackingStorePixelRatio ||\n",
       "        this.context.oBackingStorePixelRatio ||\n",
       "        this.context.backingStorePixelRatio ||\n",
       "        1;\n",
       "\n",
       "    this.ratio = (window.devicePixelRatio || 1) / backingStore;\n",
       "\n",
       "    var rubberband_canvas = (this.rubberband_canvas = document.createElement(\n",
       "        'canvas'\n",
       "    ));\n",
       "    rubberband_canvas.setAttribute(\n",
       "        'style',\n",
       "        'box-sizing: content-box; position: absolute; left: 0; top: 0; z-index: 1;'\n",
       "    );\n",
       "\n",
       "    // Apply a ponyfill if ResizeObserver is not implemented by browser.\n",
       "    if (this.ResizeObserver === undefined) {\n",
       "        if (window.ResizeObserver !== undefined) {\n",
       "            this.ResizeObserver = window.ResizeObserver;\n",
       "        } else {\n",
       "            var obs = _JSXTOOLS_RESIZE_OBSERVER({});\n",
       "            this.ResizeObserver = obs.ResizeObserver;\n",
       "        }\n",
       "    }\n",
       "\n",
       "    this.resizeObserverInstance = new this.ResizeObserver(function (entries) {\n",
       "        var nentries = entries.length;\n",
       "        for (var i = 0; i < nentries; i++) {\n",
       "            var entry = entries[i];\n",
       "            var width, height;\n",
       "            if (entry.contentBoxSize) {\n",
       "                if (entry.contentBoxSize instanceof Array) {\n",
       "                    // Chrome 84 implements new version of spec.\n",
       "                    width = entry.contentBoxSize[0].inlineSize;\n",
       "                    height = entry.contentBoxSize[0].blockSize;\n",
       "                } else {\n",
       "                    // Firefox implements old version of spec.\n",
       "                    width = entry.contentBoxSize.inlineSize;\n",
       "                    height = entry.contentBoxSize.blockSize;\n",
       "                }\n",
       "            } else {\n",
       "                // Chrome <84 implements even older version of spec.\n",
       "                width = entry.contentRect.width;\n",
       "                height = entry.contentRect.height;\n",
       "            }\n",
       "\n",
       "            // Keep the size of the canvas and rubber band canvas in sync with\n",
       "            // the canvas container.\n",
       "            if (entry.devicePixelContentBoxSize) {\n",
       "                // Chrome 84 implements new version of spec.\n",
       "                canvas.setAttribute(\n",
       "                    'width',\n",
       "                    entry.devicePixelContentBoxSize[0].inlineSize\n",
       "                );\n",
       "                canvas.setAttribute(\n",
       "                    'height',\n",
       "                    entry.devicePixelContentBoxSize[0].blockSize\n",
       "                );\n",
       "            } else {\n",
       "                canvas.setAttribute('width', width * fig.ratio);\n",
       "                canvas.setAttribute('height', height * fig.ratio);\n",
       "            }\n",
       "            canvas.setAttribute(\n",
       "                'style',\n",
       "                'width: ' + width + 'px; height: ' + height + 'px;'\n",
       "            );\n",
       "\n",
       "            rubberband_canvas.setAttribute('width', width);\n",
       "            rubberband_canvas.setAttribute('height', height);\n",
       "\n",
       "            // And update the size in Python. We ignore the initial 0/0 size\n",
       "            // that occurs as the element is placed into the DOM, which should\n",
       "            // otherwise not happen due to the minimum size styling.\n",
       "            if (fig.ws.readyState == 1 && width != 0 && height != 0) {\n",
       "                fig.request_resize(width, height);\n",
       "            }\n",
       "        }\n",
       "    });\n",
       "    this.resizeObserverInstance.observe(canvas_div);\n",
       "\n",
       "    function on_mouse_event_closure(name) {\n",
       "        return function (event) {\n",
       "            return fig.mouse_event(event, name);\n",
       "        };\n",
       "    }\n",
       "\n",
       "    rubberband_canvas.addEventListener(\n",
       "        'mousedown',\n",
       "        on_mouse_event_closure('button_press')\n",
       "    );\n",
       "    rubberband_canvas.addEventListener(\n",
       "        'mouseup',\n",
       "        on_mouse_event_closure('button_release')\n",
       "    );\n",
       "    // Throttle sequential mouse events to 1 every 20ms.\n",
       "    rubberband_canvas.addEventListener(\n",
       "        'mousemove',\n",
       "        on_mouse_event_closure('motion_notify')\n",
       "    );\n",
       "\n",
       "    rubberband_canvas.addEventListener(\n",
       "        'mouseenter',\n",
       "        on_mouse_event_closure('figure_enter')\n",
       "    );\n",
       "    rubberband_canvas.addEventListener(\n",
       "        'mouseleave',\n",
       "        on_mouse_event_closure('figure_leave')\n",
       "    );\n",
       "\n",
       "    canvas_div.addEventListener('wheel', function (event) {\n",
       "        if (event.deltaY < 0) {\n",
       "            event.step = 1;\n",
       "        } else {\n",
       "            event.step = -1;\n",
       "        }\n",
       "        on_mouse_event_closure('scroll')(event);\n",
       "    });\n",
       "\n",
       "    canvas_div.appendChild(canvas);\n",
       "    canvas_div.appendChild(rubberband_canvas);\n",
       "\n",
       "    this.rubberband_context = rubberband_canvas.getContext('2d');\n",
       "    this.rubberband_context.strokeStyle = '#000000';\n",
       "\n",
       "    this._resize_canvas = function (width, height, forward) {\n",
       "        if (forward) {\n",
       "            canvas_div.style.width = width + 'px';\n",
       "            canvas_div.style.height = height + 'px';\n",
       "        }\n",
       "    };\n",
       "\n",
       "    // Disable right mouse context menu.\n",
       "    this.rubberband_canvas.addEventListener('contextmenu', function (_e) {\n",
       "        event.preventDefault();\n",
       "        return false;\n",
       "    });\n",
       "\n",
       "    function set_focus() {\n",
       "        canvas.focus();\n",
       "        canvas_div.focus();\n",
       "    }\n",
       "\n",
       "    window.setTimeout(set_focus, 100);\n",
       "};\n",
       "\n",
       "mpl.figure.prototype._init_toolbar = function () {\n",
       "    var fig = this;\n",
       "\n",
       "    var toolbar = document.createElement('div');\n",
       "    toolbar.classList = 'mpl-toolbar';\n",
       "    this.root.appendChild(toolbar);\n",
       "\n",
       "    function on_click_closure(name) {\n",
       "        return function (_event) {\n",
       "            return fig.toolbar_button_onclick(name);\n",
       "        };\n",
       "    }\n",
       "\n",
       "    function on_mouseover_closure(tooltip) {\n",
       "        return function (event) {\n",
       "            if (!event.currentTarget.disabled) {\n",
       "                return fig.toolbar_button_onmouseover(tooltip);\n",
       "            }\n",
       "        };\n",
       "    }\n",
       "\n",
       "    fig.buttons = {};\n",
       "    var buttonGroup = document.createElement('div');\n",
       "    buttonGroup.classList = 'mpl-button-group';\n",
       "    for (var toolbar_ind in mpl.toolbar_items) {\n",
       "        var name = mpl.toolbar_items[toolbar_ind][0];\n",
       "        var tooltip = mpl.toolbar_items[toolbar_ind][1];\n",
       "        var image = mpl.toolbar_items[toolbar_ind][2];\n",
       "        var method_name = mpl.toolbar_items[toolbar_ind][3];\n",
       "\n",
       "        if (!name) {\n",
       "            /* Instead of a spacer, we start a new button group. */\n",
       "            if (buttonGroup.hasChildNodes()) {\n",
       "                toolbar.appendChild(buttonGroup);\n",
       "            }\n",
       "            buttonGroup = document.createElement('div');\n",
       "            buttonGroup.classList = 'mpl-button-group';\n",
       "            continue;\n",
       "        }\n",
       "\n",
       "        var button = (fig.buttons[name] = document.createElement('button'));\n",
       "        button.classList = 'mpl-widget';\n",
       "        button.setAttribute('role', 'button');\n",
       "        button.setAttribute('aria-disabled', 'false');\n",
       "        button.addEventListener('click', on_click_closure(method_name));\n",
       "        button.addEventListener('mouseover', on_mouseover_closure(tooltip));\n",
       "\n",
       "        var icon_img = document.createElement('img');\n",
       "        icon_img.src = '_images/' + image + '.png';\n",
       "        icon_img.srcset = '_images/' + image + '_large.png 2x';\n",
       "        icon_img.alt = tooltip;\n",
       "        button.appendChild(icon_img);\n",
       "\n",
       "        buttonGroup.appendChild(button);\n",
       "    }\n",
       "\n",
       "    if (buttonGroup.hasChildNodes()) {\n",
       "        toolbar.appendChild(buttonGroup);\n",
       "    }\n",
       "\n",
       "    var fmt_picker = document.createElement('select');\n",
       "    fmt_picker.classList = 'mpl-widget';\n",
       "    toolbar.appendChild(fmt_picker);\n",
       "    this.format_dropdown = fmt_picker;\n",
       "\n",
       "    for (var ind in mpl.extensions) {\n",
       "        var fmt = mpl.extensions[ind];\n",
       "        var option = document.createElement('option');\n",
       "        option.selected = fmt === mpl.default_extension;\n",
       "        option.innerHTML = fmt;\n",
       "        fmt_picker.appendChild(option);\n",
       "    }\n",
       "\n",
       "    var status_bar = document.createElement('span');\n",
       "    status_bar.classList = 'mpl-message';\n",
       "    toolbar.appendChild(status_bar);\n",
       "    this.message = status_bar;\n",
       "};\n",
       "\n",
       "mpl.figure.prototype.request_resize = function (x_pixels, y_pixels) {\n",
       "    // Request matplotlib to resize the figure. Matplotlib will then trigger a resize in the client,\n",
       "    // which will in turn request a refresh of the image.\n",
       "    this.send_message('resize', { width: x_pixels, height: y_pixels });\n",
       "};\n",
       "\n",
       "mpl.figure.prototype.send_message = function (type, properties) {\n",
       "    properties['type'] = type;\n",
       "    properties['figure_id'] = this.id;\n",
       "    this.ws.send(JSON.stringify(properties));\n",
       "};\n",
       "\n",
       "mpl.figure.prototype.send_draw_message = function () {\n",
       "    if (!this.waiting) {\n",
       "        this.waiting = true;\n",
       "        this.ws.send(JSON.stringify({ type: 'draw', figure_id: this.id }));\n",
       "    }\n",
       "};\n",
       "\n",
       "mpl.figure.prototype.handle_save = function (fig, _msg) {\n",
       "    var format_dropdown = fig.format_dropdown;\n",
       "    var format = format_dropdown.options[format_dropdown.selectedIndex].value;\n",
       "    fig.ondownload(fig, format);\n",
       "};\n",
       "\n",
       "mpl.figure.prototype.handle_resize = function (fig, msg) {\n",
       "    var size = msg['size'];\n",
       "    if (size[0] !== fig.canvas.width || size[1] !== fig.canvas.height) {\n",
       "        fig._resize_canvas(size[0], size[1], msg['forward']);\n",
       "        fig.send_message('refresh', {});\n",
       "    }\n",
       "};\n",
       "\n",
       "mpl.figure.prototype.handle_rubberband = function (fig, msg) {\n",
       "    var x0 = msg['x0'] / fig.ratio;\n",
       "    var y0 = (fig.canvas.height - msg['y0']) / fig.ratio;\n",
       "    var x1 = msg['x1'] / fig.ratio;\n",
       "    var y1 = (fig.canvas.height - msg['y1']) / fig.ratio;\n",
       "    x0 = Math.floor(x0) + 0.5;\n",
       "    y0 = Math.floor(y0) + 0.5;\n",
       "    x1 = Math.floor(x1) + 0.5;\n",
       "    y1 = Math.floor(y1) + 0.5;\n",
       "    var min_x = Math.min(x0, x1);\n",
       "    var min_y = Math.min(y0, y1);\n",
       "    var width = Math.abs(x1 - x0);\n",
       "    var height = Math.abs(y1 - y0);\n",
       "\n",
       "    fig.rubberband_context.clearRect(\n",
       "        0,\n",
       "        0,\n",
       "        fig.canvas.width / fig.ratio,\n",
       "        fig.canvas.height / fig.ratio\n",
       "    );\n",
       "\n",
       "    fig.rubberband_context.strokeRect(min_x, min_y, width, height);\n",
       "};\n",
       "\n",
       "mpl.figure.prototype.handle_figure_label = function (fig, msg) {\n",
       "    // Updates the figure title.\n",
       "    fig.header.textContent = msg['label'];\n",
       "};\n",
       "\n",
       "mpl.figure.prototype.handle_cursor = function (fig, msg) {\n",
       "    var cursor = msg['cursor'];\n",
       "    switch (cursor) {\n",
       "        case 0:\n",
       "            cursor = 'pointer';\n",
       "            break;\n",
       "        case 1:\n",
       "            cursor = 'default';\n",
       "            break;\n",
       "        case 2:\n",
       "            cursor = 'crosshair';\n",
       "            break;\n",
       "        case 3:\n",
       "            cursor = 'move';\n",
       "            break;\n",
       "    }\n",
       "    fig.rubberband_canvas.style.cursor = cursor;\n",
       "};\n",
       "\n",
       "mpl.figure.prototype.handle_message = function (fig, msg) {\n",
       "    fig.message.textContent = msg['message'];\n",
       "};\n",
       "\n",
       "mpl.figure.prototype.handle_draw = function (fig, _msg) {\n",
       "    // Request the server to send over a new figure.\n",
       "    fig.send_draw_message();\n",
       "};\n",
       "\n",
       "mpl.figure.prototype.handle_image_mode = function (fig, msg) {\n",
       "    fig.image_mode = msg['mode'];\n",
       "};\n",
       "\n",
       "mpl.figure.prototype.handle_history_buttons = function (fig, msg) {\n",
       "    for (var key in msg) {\n",
       "        if (!(key in fig.buttons)) {\n",
       "            continue;\n",
       "        }\n",
       "        fig.buttons[key].disabled = !msg[key];\n",
       "        fig.buttons[key].setAttribute('aria-disabled', !msg[key]);\n",
       "    }\n",
       "};\n",
       "\n",
       "mpl.figure.prototype.handle_navigate_mode = function (fig, msg) {\n",
       "    if (msg['mode'] === 'PAN') {\n",
       "        fig.buttons['Pan'].classList.add('active');\n",
       "        fig.buttons['Zoom'].classList.remove('active');\n",
       "    } else if (msg['mode'] === 'ZOOM') {\n",
       "        fig.buttons['Pan'].classList.remove('active');\n",
       "        fig.buttons['Zoom'].classList.add('active');\n",
       "    } else {\n",
       "        fig.buttons['Pan'].classList.remove('active');\n",
       "        fig.buttons['Zoom'].classList.remove('active');\n",
       "    }\n",
       "};\n",
       "\n",
       "mpl.figure.prototype.updated_canvas_event = function () {\n",
       "    // Called whenever the canvas gets updated.\n",
       "    this.send_message('ack', {});\n",
       "};\n",
       "\n",
       "// A function to construct a web socket function for onmessage handling.\n",
       "// Called in the figure constructor.\n",
       "mpl.figure.prototype._make_on_message_function = function (fig) {\n",
       "    return function socket_on_message(evt) {\n",
       "        if (evt.data instanceof Blob) {\n",
       "            /* FIXME: We get \"Resource interpreted as Image but\n",
       "             * transferred with MIME type text/plain:\" errors on\n",
       "             * Chrome.  But how to set the MIME type?  It doesn't seem\n",
       "             * to be part of the websocket stream */\n",
       "            evt.data.type = 'image/png';\n",
       "\n",
       "            /* Free the memory for the previous frames */\n",
       "            if (fig.imageObj.src) {\n",
       "                (window.URL || window.webkitURL).revokeObjectURL(\n",
       "                    fig.imageObj.src\n",
       "                );\n",
       "            }\n",
       "\n",
       "            fig.imageObj.src = (window.URL || window.webkitURL).createObjectURL(\n",
       "                evt.data\n",
       "            );\n",
       "            fig.updated_canvas_event();\n",
       "            fig.waiting = false;\n",
       "            return;\n",
       "        } else if (\n",
       "            typeof evt.data === 'string' &&\n",
       "            evt.data.slice(0, 21) === 'data:image/png;base64'\n",
       "        ) {\n",
       "            fig.imageObj.src = evt.data;\n",
       "            fig.updated_canvas_event();\n",
       "            fig.waiting = false;\n",
       "            return;\n",
       "        }\n",
       "\n",
       "        var msg = JSON.parse(evt.data);\n",
       "        var msg_type = msg['type'];\n",
       "\n",
       "        // Call the  \"handle_{type}\" callback, which takes\n",
       "        // the figure and JSON message as its only arguments.\n",
       "        try {\n",
       "            var callback = fig['handle_' + msg_type];\n",
       "        } catch (e) {\n",
       "            console.log(\n",
       "                \"No handler for the '\" + msg_type + \"' message type: \",\n",
       "                msg\n",
       "            );\n",
       "            return;\n",
       "        }\n",
       "\n",
       "        if (callback) {\n",
       "            try {\n",
       "                // console.log(\"Handling '\" + msg_type + \"' message: \", msg);\n",
       "                callback(fig, msg);\n",
       "            } catch (e) {\n",
       "                console.log(\n",
       "                    \"Exception inside the 'handler_\" + msg_type + \"' callback:\",\n",
       "                    e,\n",
       "                    e.stack,\n",
       "                    msg\n",
       "                );\n",
       "            }\n",
       "        }\n",
       "    };\n",
       "};\n",
       "\n",
       "// from http://stackoverflow.com/questions/1114465/getting-mouse-location-in-canvas\n",
       "mpl.findpos = function (e) {\n",
       "    //this section is from http://www.quirksmode.org/js/events_properties.html\n",
       "    var targ;\n",
       "    if (!e) {\n",
       "        e = window.event;\n",
       "    }\n",
       "    if (e.target) {\n",
       "        targ = e.target;\n",
       "    } else if (e.srcElement) {\n",
       "        targ = e.srcElement;\n",
       "    }\n",
       "    if (targ.nodeType === 3) {\n",
       "        // defeat Safari bug\n",
       "        targ = targ.parentNode;\n",
       "    }\n",
       "\n",
       "    // pageX,Y are the mouse positions relative to the document\n",
       "    var boundingRect = targ.getBoundingClientRect();\n",
       "    var x = e.pageX - (boundingRect.left + document.body.scrollLeft);\n",
       "    var y = e.pageY - (boundingRect.top + document.body.scrollTop);\n",
       "\n",
       "    return { x: x, y: y };\n",
       "};\n",
       "\n",
       "/*\n",
       " * return a copy of an object with only non-object keys\n",
       " * we need this to avoid circular references\n",
       " * http://stackoverflow.com/a/24161582/3208463\n",
       " */\n",
       "function simpleKeys(original) {\n",
       "    return Object.keys(original).reduce(function (obj, key) {\n",
       "        if (typeof original[key] !== 'object') {\n",
       "            obj[key] = original[key];\n",
       "        }\n",
       "        return obj;\n",
       "    }, {});\n",
       "}\n",
       "\n",
       "mpl.figure.prototype.mouse_event = function (event, name) {\n",
       "    var canvas_pos = mpl.findpos(event);\n",
       "\n",
       "    if (name === 'button_press') {\n",
       "        this.canvas.focus();\n",
       "        this.canvas_div.focus();\n",
       "    }\n",
       "\n",
       "    var x = canvas_pos.x * this.ratio;\n",
       "    var y = canvas_pos.y * this.ratio;\n",
       "\n",
       "    this.send_message(name, {\n",
       "        x: x,\n",
       "        y: y,\n",
       "        button: event.button,\n",
       "        step: event.step,\n",
       "        guiEvent: simpleKeys(event),\n",
       "    });\n",
       "\n",
       "    /* This prevents the web browser from automatically changing to\n",
       "     * the text insertion cursor when the button is pressed.  We want\n",
       "     * to control all of the cursor setting manually through the\n",
       "     * 'cursor' event from matplotlib */\n",
       "    event.preventDefault();\n",
       "    return false;\n",
       "};\n",
       "\n",
       "mpl.figure.prototype._key_event_extra = function (_event, _name) {\n",
       "    // Handle any extra behaviour associated with a key event\n",
       "};\n",
       "\n",
       "mpl.figure.prototype.key_event = function (event, name) {\n",
       "    // Prevent repeat events\n",
       "    if (name === 'key_press') {\n",
       "        if (event.which === this._key) {\n",
       "            return;\n",
       "        } else {\n",
       "            this._key = event.which;\n",
       "        }\n",
       "    }\n",
       "    if (name === 'key_release') {\n",
       "        this._key = null;\n",
       "    }\n",
       "\n",
       "    var value = '';\n",
       "    if (event.ctrlKey && event.which !== 17) {\n",
       "        value += 'ctrl+';\n",
       "    }\n",
       "    if (event.altKey && event.which !== 18) {\n",
       "        value += 'alt+';\n",
       "    }\n",
       "    if (event.shiftKey && event.which !== 16) {\n",
       "        value += 'shift+';\n",
       "    }\n",
       "\n",
       "    value += 'k';\n",
       "    value += event.which.toString();\n",
       "\n",
       "    this._key_event_extra(event, name);\n",
       "\n",
       "    this.send_message(name, { key: value, guiEvent: simpleKeys(event) });\n",
       "    return false;\n",
       "};\n",
       "\n",
       "mpl.figure.prototype.toolbar_button_onclick = function (name) {\n",
       "    if (name === 'download') {\n",
       "        this.handle_save(this, null);\n",
       "    } else {\n",
       "        this.send_message('toolbar_button', { name: name });\n",
       "    }\n",
       "};\n",
       "\n",
       "mpl.figure.prototype.toolbar_button_onmouseover = function (tooltip) {\n",
       "    this.message.textContent = tooltip;\n",
       "};\n",
       "\n",
       "///////////////// REMAINING CONTENT GENERATED BY embed_js.py /////////////////\n",
       "// prettier-ignore\n",
       "var _JSXTOOLS_RESIZE_OBSERVER=function(A){var t,i=new WeakMap,n=new WeakMap,a=new WeakMap,r=new WeakMap,o=new Set;function s(e){if(!(this instanceof s))throw new TypeError(\"Constructor requires 'new' operator\");i.set(this,e)}function h(){throw new TypeError(\"Function is not a constructor\")}function c(e,t,i,n){e=0 in arguments?Number(arguments[0]):0,t=1 in arguments?Number(arguments[1]):0,i=2 in arguments?Number(arguments[2]):0,n=3 in arguments?Number(arguments[3]):0,this.right=(this.x=this.left=e)+(this.width=i),this.bottom=(this.y=this.top=t)+(this.height=n),Object.freeze(this)}function d(){t=requestAnimationFrame(d);var s=new WeakMap,p=new Set;o.forEach((function(t){r.get(t).forEach((function(i){var r=t instanceof window.SVGElement,o=a.get(t),d=r?0:parseFloat(o.paddingTop),f=r?0:parseFloat(o.paddingRight),l=r?0:parseFloat(o.paddingBottom),u=r?0:parseFloat(o.paddingLeft),g=r?0:parseFloat(o.borderTopWidth),m=r?0:parseFloat(o.borderRightWidth),w=r?0:parseFloat(o.borderBottomWidth),b=u+f,F=d+l,v=(r?0:parseFloat(o.borderLeftWidth))+m,W=g+w,y=r?0:t.offsetHeight-W-t.clientHeight,E=r?0:t.offsetWidth-v-t.clientWidth,R=b+v,z=F+W,M=r?t.width:parseFloat(o.width)-R-E,O=r?t.height:parseFloat(o.height)-z-y;if(n.has(t)){var k=n.get(t);if(k[0]===M&&k[1]===O)return}n.set(t,[M,O]);var S=Object.create(h.prototype);S.target=t,S.contentRect=new c(u,d,M,O),s.has(i)||(s.set(i,[]),p.add(i)),s.get(i).push(S)}))})),p.forEach((function(e){i.get(e).call(e,s.get(e),e)}))}return s.prototype.observe=function(i){if(i instanceof window.Element){r.has(i)||(r.set(i,new Set),o.add(i),a.set(i,window.getComputedStyle(i)));var n=r.get(i);n.has(this)||n.add(this),cancelAnimationFrame(t),t=requestAnimationFrame(d)}},s.prototype.unobserve=function(i){if(i instanceof window.Element&&r.has(i)){var n=r.get(i);n.has(this)&&(n.delete(this),n.size||(r.delete(i),o.delete(i))),n.size||r.delete(i),o.size||cancelAnimationFrame(t)}},A.DOMRectReadOnly=c,A.ResizeObserver=s,A.ResizeObserverEntry=h,A}; // eslint-disable-line\n",
       "mpl.toolbar_items = [[\"Home\", \"Reset original view\", \"fa fa-home icon-home\", \"home\"], [\"Back\", \"Back to previous view\", \"fa fa-arrow-left icon-arrow-left\", \"back\"], [\"Forward\", \"Forward to next view\", \"fa fa-arrow-right icon-arrow-right\", \"forward\"], [\"\", \"\", \"\", \"\"], [\"Pan\", \"Left button pans, Right button zooms\\nx/y fixes axis, CTRL fixes aspect\", \"fa fa-arrows icon-move\", \"pan\"], [\"Zoom\", \"Zoom to rectangle\\nx/y fixes axis, CTRL fixes aspect\", \"fa fa-square-o icon-check-empty\", \"zoom\"], [\"\", \"\", \"\", \"\"], [\"Download\", \"Download plot\", \"fa fa-floppy-o icon-save\", \"download\"]];\n",
       "\n",
       "mpl.extensions = [\"eps\", \"jpeg\", \"pdf\", \"png\", \"ps\", \"raw\", \"svg\", \"tif\"];\n",
       "\n",
       "mpl.default_extension = \"png\";/* global mpl */\n",
       "\n",
       "var comm_websocket_adapter = function (comm) {\n",
       "    // Create a \"websocket\"-like object which calls the given IPython comm\n",
       "    // object with the appropriate methods. Currently this is a non binary\n",
       "    // socket, so there is still some room for performance tuning.\n",
       "    var ws = {};\n",
       "\n",
       "    ws.close = function () {\n",
       "        comm.close();\n",
       "    };\n",
       "    ws.send = function (m) {\n",
       "        //console.log('sending', m);\n",
       "        comm.send(m);\n",
       "    };\n",
       "    // Register the callback with on_msg.\n",
       "    comm.on_msg(function (msg) {\n",
       "        //console.log('receiving', msg['content']['data'], msg);\n",
       "        // Pass the mpl event to the overridden (by mpl) onmessage function.\n",
       "        ws.onmessage(msg['content']['data']);\n",
       "    });\n",
       "    return ws;\n",
       "};\n",
       "\n",
       "mpl.mpl_figure_comm = function (comm, msg) {\n",
       "    // This is the function which gets called when the mpl process\n",
       "    // starts-up an IPython Comm through the \"matplotlib\" channel.\n",
       "\n",
       "    var id = msg.content.data.id;\n",
       "    // Get hold of the div created by the display call when the Comm\n",
       "    // socket was opened in Python.\n",
       "    var element = document.getElementById(id);\n",
       "    var ws_proxy = comm_websocket_adapter(comm);\n",
       "\n",
       "    function ondownload(figure, _format) {\n",
       "        window.open(figure.canvas.toDataURL());\n",
       "    }\n",
       "\n",
       "    var fig = new mpl.figure(id, ws_proxy, ondownload, element);\n",
       "\n",
       "    // Call onopen now - mpl needs it, as it is assuming we've passed it a real\n",
       "    // web socket which is closed, not our websocket->open comm proxy.\n",
       "    ws_proxy.onopen();\n",
       "\n",
       "    fig.parent_element = element;\n",
       "    fig.cell_info = mpl.find_output_cell(\"<div id='\" + id + \"'></div>\");\n",
       "    if (!fig.cell_info) {\n",
       "        console.error('Failed to find cell for figure', id, fig);\n",
       "        return;\n",
       "    }\n",
       "    fig.cell_info[0].output_area.element.on(\n",
       "        'cleared',\n",
       "        { fig: fig },\n",
       "        fig._remove_fig_handler\n",
       "    );\n",
       "};\n",
       "\n",
       "mpl.figure.prototype.handle_close = function (fig, msg) {\n",
       "    var width = fig.canvas.width / fig.ratio;\n",
       "    fig.cell_info[0].output_area.element.off(\n",
       "        'cleared',\n",
       "        fig._remove_fig_handler\n",
       "    );\n",
       "    fig.resizeObserverInstance.unobserve(fig.canvas_div);\n",
       "\n",
       "    // Update the output cell to use the data from the current canvas.\n",
       "    fig.push_to_output();\n",
       "    var dataURL = fig.canvas.toDataURL();\n",
       "    // Re-enable the keyboard manager in IPython - without this line, in FF,\n",
       "    // the notebook keyboard shortcuts fail.\n",
       "    IPython.keyboard_manager.enable();\n",
       "    fig.parent_element.innerHTML =\n",
       "        '<img src=\"' + dataURL + '\" width=\"' + width + '\">';\n",
       "    fig.close_ws(fig, msg);\n",
       "};\n",
       "\n",
       "mpl.figure.prototype.close_ws = function (fig, msg) {\n",
       "    fig.send_message('closing', msg);\n",
       "    // fig.ws.close()\n",
       "};\n",
       "\n",
       "mpl.figure.prototype.push_to_output = function (_remove_interactive) {\n",
       "    // Turn the data on the canvas into data in the output cell.\n",
       "    var width = this.canvas.width / this.ratio;\n",
       "    var dataURL = this.canvas.toDataURL();\n",
       "    this.cell_info[1]['text/html'] =\n",
       "        '<img src=\"' + dataURL + '\" width=\"' + width + '\">';\n",
       "};\n",
       "\n",
       "mpl.figure.prototype.updated_canvas_event = function () {\n",
       "    // Tell IPython that the notebook contents must change.\n",
       "    IPython.notebook.set_dirty(true);\n",
       "    this.send_message('ack', {});\n",
       "    var fig = this;\n",
       "    // Wait a second, then push the new image to the DOM so\n",
       "    // that it is saved nicely (might be nice to debounce this).\n",
       "    setTimeout(function () {\n",
       "        fig.push_to_output();\n",
       "    }, 1000);\n",
       "};\n",
       "\n",
       "mpl.figure.prototype._init_toolbar = function () {\n",
       "    var fig = this;\n",
       "\n",
       "    var toolbar = document.createElement('div');\n",
       "    toolbar.classList = 'btn-toolbar';\n",
       "    this.root.appendChild(toolbar);\n",
       "\n",
       "    function on_click_closure(name) {\n",
       "        return function (_event) {\n",
       "            return fig.toolbar_button_onclick(name);\n",
       "        };\n",
       "    }\n",
       "\n",
       "    function on_mouseover_closure(tooltip) {\n",
       "        return function (event) {\n",
       "            if (!event.currentTarget.disabled) {\n",
       "                return fig.toolbar_button_onmouseover(tooltip);\n",
       "            }\n",
       "        };\n",
       "    }\n",
       "\n",
       "    fig.buttons = {};\n",
       "    var buttonGroup = document.createElement('div');\n",
       "    buttonGroup.classList = 'btn-group';\n",
       "    var button;\n",
       "    for (var toolbar_ind in mpl.toolbar_items) {\n",
       "        var name = mpl.toolbar_items[toolbar_ind][0];\n",
       "        var tooltip = mpl.toolbar_items[toolbar_ind][1];\n",
       "        var image = mpl.toolbar_items[toolbar_ind][2];\n",
       "        var method_name = mpl.toolbar_items[toolbar_ind][3];\n",
       "\n",
       "        if (!name) {\n",
       "            /* Instead of a spacer, we start a new button group. */\n",
       "            if (buttonGroup.hasChildNodes()) {\n",
       "                toolbar.appendChild(buttonGroup);\n",
       "            }\n",
       "            buttonGroup = document.createElement('div');\n",
       "            buttonGroup.classList = 'btn-group';\n",
       "            continue;\n",
       "        }\n",
       "\n",
       "        button = fig.buttons[name] = document.createElement('button');\n",
       "        button.classList = 'btn btn-default';\n",
       "        button.href = '#';\n",
       "        button.title = name;\n",
       "        button.innerHTML = '<i class=\"fa ' + image + ' fa-lg\"></i>';\n",
       "        button.addEventListener('click', on_click_closure(method_name));\n",
       "        button.addEventListener('mouseover', on_mouseover_closure(tooltip));\n",
       "        buttonGroup.appendChild(button);\n",
       "    }\n",
       "\n",
       "    if (buttonGroup.hasChildNodes()) {\n",
       "        toolbar.appendChild(buttonGroup);\n",
       "    }\n",
       "\n",
       "    // Add the status bar.\n",
       "    var status_bar = document.createElement('span');\n",
       "    status_bar.classList = 'mpl-message pull-right';\n",
       "    toolbar.appendChild(status_bar);\n",
       "    this.message = status_bar;\n",
       "\n",
       "    // Add the close button to the window.\n",
       "    var buttongrp = document.createElement('div');\n",
       "    buttongrp.classList = 'btn-group inline pull-right';\n",
       "    button = document.createElement('button');\n",
       "    button.classList = 'btn btn-mini btn-primary';\n",
       "    button.href = '#';\n",
       "    button.title = 'Stop Interaction';\n",
       "    button.innerHTML = '<i class=\"fa fa-power-off icon-remove icon-large\"></i>';\n",
       "    button.addEventListener('click', function (_evt) {\n",
       "        fig.handle_close(fig, {});\n",
       "    });\n",
       "    button.addEventListener(\n",
       "        'mouseover',\n",
       "        on_mouseover_closure('Stop Interaction')\n",
       "    );\n",
       "    buttongrp.appendChild(button);\n",
       "    var titlebar = this.root.querySelector('.ui-dialog-titlebar');\n",
       "    titlebar.insertBefore(buttongrp, titlebar.firstChild);\n",
       "};\n",
       "\n",
       "mpl.figure.prototype._remove_fig_handler = function (event) {\n",
       "    var fig = event.data.fig;\n",
       "    if (event.target !== this) {\n",
       "        // Ignore bubbled events from children.\n",
       "        return;\n",
       "    }\n",
       "    fig.close_ws(fig, {});\n",
       "};\n",
       "\n",
       "mpl.figure.prototype._root_extra_style = function (el) {\n",
       "    el.style.boxSizing = 'content-box'; // override notebook setting of border-box.\n",
       "};\n",
       "\n",
       "mpl.figure.prototype._canvas_extra_style = function (el) {\n",
       "    // this is important to make the div 'focusable\n",
       "    el.setAttribute('tabindex', 0);\n",
       "    // reach out to IPython and tell the keyboard manager to turn it's self\n",
       "    // off when our div gets focus\n",
       "\n",
       "    // location in version 3\n",
       "    if (IPython.notebook.keyboard_manager) {\n",
       "        IPython.notebook.keyboard_manager.register_events(el);\n",
       "    } else {\n",
       "        // location in version 2\n",
       "        IPython.keyboard_manager.register_events(el);\n",
       "    }\n",
       "};\n",
       "\n",
       "mpl.figure.prototype._key_event_extra = function (event, _name) {\n",
       "    var manager = IPython.notebook.keyboard_manager;\n",
       "    if (!manager) {\n",
       "        manager = IPython.keyboard_manager;\n",
       "    }\n",
       "\n",
       "    // Check for shift+enter\n",
       "    if (event.shiftKey && event.which === 13) {\n",
       "        this.canvas_div.blur();\n",
       "        // select the cell after this one\n",
       "        var index = IPython.notebook.find_cell_index(this.cell_info[0]);\n",
       "        IPython.notebook.select(index + 1);\n",
       "    }\n",
       "};\n",
       "\n",
       "mpl.figure.prototype.handle_save = function (fig, _msg) {\n",
       "    fig.ondownload(fig, null);\n",
       "};\n",
       "\n",
       "mpl.find_output_cell = function (html_output) {\n",
       "    // Return the cell and output element which can be found *uniquely* in the notebook.\n",
       "    // Note - this is a bit hacky, but it is done because the \"notebook_saving.Notebook\"\n",
       "    // IPython event is triggered only after the cells have been serialised, which for\n",
       "    // our purposes (turning an active figure into a static one), is too late.\n",
       "    var cells = IPython.notebook.get_cells();\n",
       "    var ncells = cells.length;\n",
       "    for (var i = 0; i < ncells; i++) {\n",
       "        var cell = cells[i];\n",
       "        if (cell.cell_type === 'code') {\n",
       "            for (var j = 0; j < cell.output_area.outputs.length; j++) {\n",
       "                var data = cell.output_area.outputs[j];\n",
       "                if (data.data) {\n",
       "                    // IPython >= 3 moved mimebundle to data attribute of output\n",
       "                    data = data.data;\n",
       "                }\n",
       "                if (data['text/html'] === html_output) {\n",
       "                    return [cell, data, j];\n",
       "                }\n",
       "            }\n",
       "        }\n",
       "    }\n",
       "};\n",
       "\n",
       "// Register the function which deals with the matplotlib target/channel.\n",
       "// The kernel may be null if the page has been refreshed.\n",
       "if (IPython.notebook.kernel !== null) {\n",
       "    IPython.notebook.kernel.comm_manager.register_target(\n",
       "        'matplotlib',\n",
       "        mpl.mpl_figure_comm\n",
       "    );\n",
       "}\n"
      ],
      "text/plain": [
       "<IPython.core.display.Javascript object>"
      ]
     },
     "metadata": {},
     "output_type": "display_data"
    },
    {
     "data": {
      "text/html": [
       "<img src=\"data:image/png;base64,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\" width=\"640\">"
      ],
      "text/plain": [
       "<IPython.core.display.HTML object>"
      ]
     },
     "metadata": {},
     "output_type": "display_data"
    },
    {
     "data": {
      "text/plain": [
       "Text(0.5, 1.0, 'Distributions of log-error by counties')"
      ]
     },
     "execution_count": 111,
     "metadata": {},
     "output_type": "execute_result"
    }
   ],
   "source": [
    "import warnings\n",
    "warnings.filterwarnings(\"ignore\")\n",
    "plt.figure()\n",
    "cg = dataset.groupby('regionidcounty')['logerror']\n",
    "for idx,each_group in enumerate(cg):\n",
    "    sns.distplot(each_group[1].values,bins=20,hist=False,label=\"country_id \"+str(each_group[0])[:-2])\n",
    "plt.legend()\n",
    "plt.title(\"Distributions of log-error by counties\")\n",
    "# sns.distplot()"
   ]
  },
  {
   "cell_type": "markdown",
   "metadata": {},
   "source": [
    "### 2.\tUse a random forest classifier to determine top 5 most weighted features dominated in overpricing houses. Evaluate your result. "
   ]
  },
  {
   "cell_type": "code",
   "execution_count": 112,
   "metadata": {},
   "outputs": [],
   "source": [
    "from sklearn.ensemble import RandomForestRegressor"
   ]
  },
  {
   "cell_type": "code",
   "execution_count": 113,
   "metadata": {},
   "outputs": [],
   "source": [
    "rf_rg = RandomForestRegressor()"
   ]
  },
  {
   "cell_type": "code",
   "execution_count": 114,
   "metadata": {},
   "outputs": [
    {
     "data": {
      "text/plain": [
       "RandomForestRegressor()"
      ]
     },
     "execution_count": 114,
     "metadata": {},
     "output_type": "execute_result"
    }
   ],
   "source": [
    "rf_rg.fit(x_train,y_train)"
   ]
  },
  {
   "cell_type": "code",
   "execution_count": 115,
   "metadata": {},
   "outputs": [],
   "source": [
    "x_columns = np.array(x_train.columns)"
   ]
  },
  {
   "cell_type": "code",
   "execution_count": 116,
   "metadata": {},
   "outputs": [
    {
     "data": {
      "text/plain": [
       "array(['taxamount', 'latitude', 'longitude', 'lotsizesquarefeet',\n",
       "       'structuretaxvaluedollarcnt'], dtype=object)"
      ]
     },
     "execution_count": 116,
     "metadata": {},
     "output_type": "execute_result"
    }
   ],
   "source": [
    "x_columns[np.argsort(rf_rg.feature_importances_)[-5:]]"
   ]
  },
  {
   "cell_type": "markdown",
   "metadata": {},
   "source": [
    "`taxamount` stands for the total property tax assessed for that assessment year.  \n",
    "`lotsizesquarefeet` stands  area of the lot in square feet   \n",
    "`latitude` `longitude` stands for location area  \n",
    "`structuretaxvaluedollarcnt` stands for the assessed value of the built structure on the parcel  \n",
    "All of them are important when we buy houses"
   ]
  },
  {
   "cell_type": "markdown",
   "metadata": {},
   "source": [
    "### 3.\tUse linear regression, decision tree, random forest, XGBoost, and ensembled models to predict the logerror. Which method provide the best result? Report the result. \n",
    "a.\tLinear regression – can use all features – computationally cheaper than other methods but model can be relatively complex.   \n",
    "b.\tDecision tree, random forest, and XGBoost – may take several hours if all features are used. Feature extraction is very necessary – even 30 features can take up to an hour.   \n",
    "c.\tEnsembled models – you are going to aggregate models together by weighting algorithms:  "
   ]
  },
  {
   "cell_type": "code",
   "execution_count": 117,
   "metadata": {},
   "outputs": [],
   "source": [
    "from sklearn.linear_model import LinearRegression,ElasticNet\n",
    "from sklearn.tree import DecisionTreeRegressor\n",
    "from sklearn.ensemble import AdaBoostRegressor,RandomForestRegressor\n",
    "from xgboost import XGBRegressor"
   ]
  },
  {
   "cell_type": "code",
   "execution_count": 118,
   "metadata": {},
   "outputs": [
    {
     "data": {
      "text/plain": [
       "ElasticNet(random_state=0)"
      ]
     },
     "execution_count": 118,
     "metadata": {},
     "output_type": "execute_result"
    }
   ],
   "source": [
    "# linear model uses all features from random forest\n",
    "# other use the top15 features from random forest\n",
    "lr = ElasticNet(random_state=0)\n",
    "lr.fit(x_train,y_train)"
   ]
  },
  {
   "cell_type": "code",
   "execution_count": 119,
   "metadata": {},
   "outputs": [],
   "source": [
    "x_columns = np.array(x_train.columns)"
   ]
  },
  {
   "cell_type": "code",
   "execution_count": 120,
   "metadata": {},
   "outputs": [],
   "source": [
    "most_feature = x_columns[np.argsort(rf_rg.feature_importances_)[-20:]]"
   ]
  },
  {
   "cell_type": "code",
   "execution_count": 121,
   "metadata": {},
   "outputs": [
    {
     "data": {
      "text/html": [
       "<div>\n",
       "<style scoped>\n",
       "    .dataframe tbody tr th:only-of-type {\n",
       "        vertical-align: middle;\n",
       "    }\n",
       "\n",
       "    .dataframe tbody tr th {\n",
       "        vertical-align: top;\n",
       "    }\n",
       "\n",
       "    .dataframe thead th {\n",
       "        text-align: right;\n",
       "    }\n",
       "</style>\n",
       "<table border=\"1\" class=\"dataframe\">\n",
       "  <thead>\n",
       "    <tr style=\"text-align: right;\">\n",
       "      <th></th>\n",
       "      <th>airconditioningtypeid</th>\n",
       "      <th>bathroomcnt</th>\n",
       "      <th>bedroomcnt</th>\n",
       "      <th>buildingqualitytypeid</th>\n",
       "      <th>calculatedbathnbr</th>\n",
       "      <th>calculatedfinishedsquarefeet</th>\n",
       "      <th>finishedsquarefeet12</th>\n",
       "      <th>fips</th>\n",
       "      <th>fireplacecnt</th>\n",
       "      <th>fullbathcnt</th>\n",
       "      <th>...</th>\n",
       "      <th>threequarterbathnbr</th>\n",
       "      <th>unitcnt</th>\n",
       "      <th>yearbuilt</th>\n",
       "      <th>numberofstories</th>\n",
       "      <th>structuretaxvaluedollarcnt</th>\n",
       "      <th>taxvaluedollarcnt</th>\n",
       "      <th>assessmentyear</th>\n",
       "      <th>landtaxvaluedollarcnt</th>\n",
       "      <th>taxamount</th>\n",
       "      <th>censustractandblock</th>\n",
       "    </tr>\n",
       "  </thead>\n",
       "  <tbody>\n",
       "    <tr>\n",
       "      <th>68467</th>\n",
       "      <td>1.0</td>\n",
       "      <td>3.0</td>\n",
       "      <td>3.0</td>\n",
       "      <td>4.0</td>\n",
       "      <td>3.0</td>\n",
       "      <td>2073.0</td>\n",
       "      <td>2073.0</td>\n",
       "      <td>6037.0</td>\n",
       "      <td>1.0</td>\n",
       "      <td>3.0</td>\n",
       "      <td>...</td>\n",
       "      <td>1.0</td>\n",
       "      <td>1.0</td>\n",
       "      <td>2006.0</td>\n",
       "      <td>1.0</td>\n",
       "      <td>293370.0</td>\n",
       "      <td>450019.0</td>\n",
       "      <td>2015.0</td>\n",
       "      <td>156649.0</td>\n",
       "      <td>6442.41</td>\n",
       "      <td>6.037920e+13</td>\n",
       "    </tr>\n",
       "    <tr>\n",
       "      <th>7350</th>\n",
       "      <td>1.0</td>\n",
       "      <td>2.0</td>\n",
       "      <td>3.0</td>\n",
       "      <td>7.0</td>\n",
       "      <td>2.0</td>\n",
       "      <td>1278.0</td>\n",
       "      <td>1278.0</td>\n",
       "      <td>6037.0</td>\n",
       "      <td>1.0</td>\n",
       "      <td>2.0</td>\n",
       "      <td>...</td>\n",
       "      <td>1.0</td>\n",
       "      <td>1.0</td>\n",
       "      <td>1949.0</td>\n",
       "      <td>1.0</td>\n",
       "      <td>117231.0</td>\n",
       "      <td>325908.0</td>\n",
       "      <td>2015.0</td>\n",
       "      <td>208677.0</td>\n",
       "      <td>4222.61</td>\n",
       "      <td>6.037405e+13</td>\n",
       "    </tr>\n",
       "    <tr>\n",
       "      <th>86882</th>\n",
       "      <td>1.0</td>\n",
       "      <td>3.0</td>\n",
       "      <td>3.0</td>\n",
       "      <td>4.0</td>\n",
       "      <td>3.0</td>\n",
       "      <td>2311.0</td>\n",
       "      <td>2311.0</td>\n",
       "      <td>6037.0</td>\n",
       "      <td>1.0</td>\n",
       "      <td>3.0</td>\n",
       "      <td>...</td>\n",
       "      <td>1.0</td>\n",
       "      <td>1.0</td>\n",
       "      <td>1982.0</td>\n",
       "      <td>1.0</td>\n",
       "      <td>318102.0</td>\n",
       "      <td>573816.0</td>\n",
       "      <td>2015.0</td>\n",
       "      <td>255714.0</td>\n",
       "      <td>6949.04</td>\n",
       "      <td>6.037502e+13</td>\n",
       "    </tr>\n",
       "    <tr>\n",
       "      <th>42164</th>\n",
       "      <td>1.0</td>\n",
       "      <td>5.0</td>\n",
       "      <td>7.0</td>\n",
       "      <td>7.0</td>\n",
       "      <td>5.0</td>\n",
       "      <td>4291.0</td>\n",
       "      <td>1440.0</td>\n",
       "      <td>6037.0</td>\n",
       "      <td>1.0</td>\n",
       "      <td>5.0</td>\n",
       "      <td>...</td>\n",
       "      <td>1.0</td>\n",
       "      <td>4.0</td>\n",
       "      <td>1920.0</td>\n",
       "      <td>1.0</td>\n",
       "      <td>162682.0</td>\n",
       "      <td>343441.0</td>\n",
       "      <td>2015.0</td>\n",
       "      <td>180759.0</td>\n",
       "      <td>4577.98</td>\n",
       "      <td>6.037209e+13</td>\n",
       "    </tr>\n",
       "    <tr>\n",
       "      <th>41324</th>\n",
       "      <td>1.0</td>\n",
       "      <td>3.0</td>\n",
       "      <td>3.0</td>\n",
       "      <td>4.0</td>\n",
       "      <td>3.0</td>\n",
       "      <td>2017.0</td>\n",
       "      <td>2017.0</td>\n",
       "      <td>6037.0</td>\n",
       "      <td>1.0</td>\n",
       "      <td>3.0</td>\n",
       "      <td>...</td>\n",
       "      <td>1.0</td>\n",
       "      <td>1.0</td>\n",
       "      <td>1951.0</td>\n",
       "      <td>1.0</td>\n",
       "      <td>203433.0</td>\n",
       "      <td>388270.0</td>\n",
       "      <td>2015.0</td>\n",
       "      <td>184837.0</td>\n",
       "      <td>4368.55</td>\n",
       "      <td>6.037310e+13</td>\n",
       "    </tr>\n",
       "  </tbody>\n",
       "</table>\n",
       "<p>5 rows × 35 columns</p>\n",
       "</div>"
      ],
      "text/plain": [
       "       airconditioningtypeid  bathroomcnt  bedroomcnt  buildingqualitytypeid  \\\n",
       "68467                    1.0          3.0         3.0                    4.0   \n",
       "7350                     1.0          2.0         3.0                    7.0   \n",
       "86882                    1.0          3.0         3.0                    4.0   \n",
       "42164                    1.0          5.0         7.0                    7.0   \n",
       "41324                    1.0          3.0         3.0                    4.0   \n",
       "\n",
       "       calculatedbathnbr  calculatedfinishedsquarefeet  finishedsquarefeet12  \\\n",
       "68467                3.0                        2073.0                2073.0   \n",
       "7350                 2.0                        1278.0                1278.0   \n",
       "86882                3.0                        2311.0                2311.0   \n",
       "42164                5.0                        4291.0                1440.0   \n",
       "41324                3.0                        2017.0                2017.0   \n",
       "\n",
       "         fips  fireplacecnt  fullbathcnt  ...  threequarterbathnbr  unitcnt  \\\n",
       "68467  6037.0           1.0          3.0  ...                  1.0      1.0   \n",
       "7350   6037.0           1.0          2.0  ...                  1.0      1.0   \n",
       "86882  6037.0           1.0          3.0  ...                  1.0      1.0   \n",
       "42164  6037.0           1.0          5.0  ...                  1.0      4.0   \n",
       "41324  6037.0           1.0          3.0  ...                  1.0      1.0   \n",
       "\n",
       "       yearbuilt  numberofstories  structuretaxvaluedollarcnt  \\\n",
       "68467     2006.0              1.0                    293370.0   \n",
       "7350      1949.0              1.0                    117231.0   \n",
       "86882     1982.0              1.0                    318102.0   \n",
       "42164     1920.0              1.0                    162682.0   \n",
       "41324     1951.0              1.0                    203433.0   \n",
       "\n",
       "       taxvaluedollarcnt  assessmentyear  landtaxvaluedollarcnt  taxamount  \\\n",
       "68467           450019.0          2015.0               156649.0    6442.41   \n",
       "7350            325908.0          2015.0               208677.0    4222.61   \n",
       "86882           573816.0          2015.0               255714.0    6949.04   \n",
       "42164           343441.0          2015.0               180759.0    4577.98   \n",
       "41324           388270.0          2015.0               184837.0    4368.55   \n",
       "\n",
       "       censustractandblock  \n",
       "68467         6.037920e+13  \n",
       "7350          6.037405e+13  \n",
       "86882         6.037502e+13  \n",
       "42164         6.037209e+13  \n",
       "41324         6.037310e+13  \n",
       "\n",
       "[5 rows x 35 columns]"
      ]
     },
     "execution_count": 121,
     "metadata": {},
     "output_type": "execute_result"
    }
   ],
   "source": [
    "x_train.head()"
   ]
  },
  {
   "cell_type": "code",
   "execution_count": 122,
   "metadata": {},
   "outputs": [
    {
     "data": {
      "text/plain": [
       "array(['buildingqualitytypeid', 'bathroomcnt', 'propertylandusetypeid',\n",
       "       'garagetotalsqft', 'bedroomcnt', 'regionidcity',\n",
       "       'rawcensustractandblock', 'censustractandblock',\n",
       "       'regionidneighborhood', 'regionidzip', 'finishedsquarefeet12',\n",
       "       'calculatedfinishedsquarefeet', 'yearbuilt', 'taxvaluedollarcnt',\n",
       "       'landtaxvaluedollarcnt', 'taxamount', 'latitude', 'longitude',\n",
       "       'lotsizesquarefeet', 'structuretaxvaluedollarcnt'], dtype=object)"
      ]
     },
     "execution_count": 122,
     "metadata": {},
     "output_type": "execute_result"
    }
   ],
   "source": [
    "most_feature"
   ]
  },
  {
   "cell_type": "code",
   "execution_count": 123,
   "metadata": {},
   "outputs": [],
   "source": [
    "x_train_less = x_train[most_feature]\n",
    "x_test_less  = x_test[most_feature]"
   ]
  },
  {
   "cell_type": "code",
   "execution_count": 124,
   "metadata": {},
   "outputs": [],
   "source": [
    "dt = DecisionTreeRegressor()"
   ]
  },
  {
   "cell_type": "code",
   "execution_count": 125,
   "metadata": {},
   "outputs": [
    {
     "data": {
      "text/plain": [
       "DecisionTreeRegressor()"
      ]
     },
     "execution_count": 125,
     "metadata": {},
     "output_type": "execute_result"
    }
   ],
   "source": [
    "dt.fit(x_train_less,y_train)"
   ]
  },
  {
   "cell_type": "code",
   "execution_count": 126,
   "metadata": {},
   "outputs": [
    {
     "data": {
      "text/plain": [
       "RandomForestRegressor()"
      ]
     },
     "execution_count": 126,
     "metadata": {},
     "output_type": "execute_result"
    }
   ],
   "source": [
    "rf = RandomForestRegressor()\n",
    "rf.fit(x_train_less,y_train)"
   ]
  },
  {
   "cell_type": "code",
   "execution_count": 127,
   "metadata": {},
   "outputs": [
    {
     "data": {
      "text/plain": [
       "XGBRegressor(base_score=0.5, booster='gbtree', colsample_bylevel=1,\n",
       "             colsample_bynode=1, colsample_bytree=1, gamma=0, gpu_id=-1,\n",
       "             importance_type='gain', interaction_constraints='',\n",
       "             learning_rate=0.300000012, max_delta_step=0, max_depth=6,\n",
       "             min_child_weight=1, missing=nan, monotone_constraints='()',\n",
       "             n_estimators=100, n_jobs=12, num_parallel_tree=1, random_state=0,\n",
       "             reg_alpha=0, reg_lambda=1, scale_pos_weight=1, subsample=1,\n",
       "             tree_method='exact', validate_parameters=1, verbosity=None)"
      ]
     },
     "execution_count": 127,
     "metadata": {},
     "output_type": "execute_result"
    }
   ],
   "source": [
    "cf = XGBRegressor()\n",
    "cf.fit(x_train_less,y_train)"
   ]
  },
  {
   "cell_type": "code",
   "execution_count": 128,
   "metadata": {},
   "outputs": [],
   "source": [
    "def report_table(model,test):\n",
    "    features = test.shape[1]\n",
    "    y_pred   = model.predict(test)\n",
    "    error = y_test - y_pred\n",
    "    r = (error**2).mean()**(0.5)\n",
    "    z_score = np.abs(y_test).mean()\n",
    "    model_score = np.abs(y_pred).mean()\n",
    "    over = model_score < z_score\n",
    "    over_ret = \"Yes\" if over else \"No\"\n",
    "    return [round(r,5),features,round(r+features/58,5),over_ret]"
   ]
  },
  {
   "cell_type": "code",
   "execution_count": 129,
   "metadata": {},
   "outputs": [],
   "source": [
    "model_dict = {\"LR\":report_table(lr,x_test),\n",
    "             \"Decision Tree\":report_table(dt,x_test_less),\n",
    "             \"Random Forest\":report_table(rf,x_test_less),\n",
    "             \"XGBoost\":report_table(cf,x_test_less)\n",
    "             }"
   ]
  },
  {
   "cell_type": "code",
   "execution_count": 130,
   "metadata": {},
   "outputs": [],
   "source": [
    "base_model = ['LR','Decision Tree','Random Forest',\"XGBoost\"]\n",
    "models_predict = np.array([lr.predict(x_test),dt.predict(x_test_less),rf.predict(x_test_less),cf.predict(x_test_less)])\n",
    "models_predict_avg = np.mean(models_predict,axis=0)"
   ]
  },
  {
   "cell_type": "code",
   "execution_count": 131,
   "metadata": {},
   "outputs": [],
   "source": [
    "r_value = lambda y_pred: ((y_test - y_pred)**2).mean()**(0.5)\n",
    "over_ret = lambda y_pred: \"Yes\" if np.abs(y_pred).mean() < np.abs(y_test).mean() else \"No\" "
   ]
  },
  {
   "cell_type": "code",
   "execution_count": 132,
   "metadata": {},
   "outputs": [],
   "source": [
    "r_avg = r_value(models_predict_avg)\n",
    "ret_avg = over_ret(models_predict_avg)"
   ]
  },
  {
   "cell_type": "code",
   "execution_count": 133,
   "metadata": {},
   "outputs": [
    {
     "data": {
      "text/plain": [
       "(0.17336292659422425, 'Yes')"
      ]
     },
     "execution_count": 133,
     "metadata": {},
     "output_type": "execute_result"
    }
   ],
   "source": [
    "r_avg,ret_avg"
   ]
  },
  {
   "cell_type": "code",
   "execution_count": 134,
   "metadata": {},
   "outputs": [],
   "source": [
    "model_dict['Model avg'] = [round(r_avg,5),35,round(r_avg+35/58,5),ret_avg]"
   ]
  },
  {
   "cell_type": "code",
   "execution_count": 135,
   "metadata": {},
   "outputs": [],
   "source": [
    "w = np.array([0.9,0.02,0.04,0.04])\n",
    "models_predict_w = np.dot(models_predict.T,w)"
   ]
  },
  {
   "cell_type": "code",
   "execution_count": 136,
   "metadata": {},
   "outputs": [],
   "source": [
    "r_w = r_value(models_predict_w)\n",
    "ret_w = over_ret(models_predict_w)"
   ]
  },
  {
   "cell_type": "code",
   "execution_count": 137,
   "metadata": {},
   "outputs": [],
   "source": [
    "model_dict['Model w'] = [ round(r_w,5),35,round(r_w+35/58,5),ret_w]"
   ]
  },
  {
   "cell_type": "code",
   "execution_count": 138,
   "metadata": {},
   "outputs": [
    {
     "data": {
      "text/plain": [
       "{'LR': [0.16891, 35, 0.77236, 'Yes'],\n",
       " 'Decision Tree': [0.23827, 20, 0.58309, 'No'],\n",
       " 'Random Forest': [0.17045, 20, 0.51528, 'Yes'],\n",
       " 'XGBoost': [0.17227, 20, 0.5171, 'Yes'],\n",
       " 'Model avg': [0.17336, 35, 0.77681, 'Yes'],\n",
       " 'Model w': [0.16851, 35, 0.77196, 'Yes']}"
      ]
     },
     "execution_count": 138,
     "metadata": {},
     "output_type": "execute_result"
    }
   ],
   "source": [
    "model_dict"
   ]
  },
  {
   "cell_type": "markdown",
   "metadata": {},
   "source": [
    "|Model#|Model|RMSE (R)|Number of Features (n)|Score|Beat Zillow? (Yes/No)|\n",
    "|--|--|--|--|--|--|\n",
    "|1|Linear Regression (+Regularization)|0.16006|35|0.76351|yes|\n",
    "|2|Decision Tree|0.23644|20|0.58126|No|\n",
    "|3|Random Forest|0.16218|20|0.58126|Yes|\n",
    "|4|XGBoost|0.16391|20|0.50874|Yes|\n",
    "|5|Modelw|0.16564|35|0.76909|Yes|\n",
    "|6|Modelavg|0.15969|35|0.76314|Yes|"
   ]
  },
  {
   "cell_type": "code",
   "execution_count": 139,
   "metadata": {},
   "outputs": [],
   "source": [
    "mse = np.abs(models_predict_w-y_test).mean()"
   ]
  },
  {
   "cell_type": "markdown",
   "metadata": {},
   "source": [
    "5.\tAmong 6 models, choose the best model and evaluate the model. Report the score value you want to enroll the competition. "
   ]
  },
  {
   "cell_type": "markdown",
   "metadata": {},
   "source": [
    "https://www.kaggle.com/c/zillow-prize-1/overview/evaluation   \n",
    "The competition chooses the MSE as the evaluation of the model  "
   ]
  },
  {
   "cell_type": "code",
   "execution_count": 140,
   "metadata": {},
   "outputs": [
    {
     "data": {
      "text/plain": [
       "0.06918529529082787"
      ]
     },
     "execution_count": 140,
     "metadata": {},
     "output_type": "execute_result"
    }
   ],
   "source": [
    "mse"
   ]
  },
  {
   "cell_type": "markdown",
   "metadata": {},
   "source": [
    "The best model is modelavg. The model avg result is 0.06751. "
   ]
  },
  {
   "cell_type": "markdown",
   "metadata": {},
   "source": [
    "6.\tDetermine if you beat the Zillow model by comparing the average of |log-error|"
   ]
  },
  {
   "cell_type": "markdown",
   "metadata": {},
   "source": [
    "YES! Five model has beat the Zillow model.And my w also beats the Zillow model. "
   ]
  }
 ],
 "metadata": {
  "kernelspec": {
   "display_name": "Python 3",
   "language": "python",
   "name": "python3"
  },
  "language_info": {
   "codemirror_mode": {
    "name": "ipython",
    "version": 3
   },
   "file_extension": ".py",
   "mimetype": "text/x-python",
   "name": "python",
   "nbconvert_exporter": "python",
   "pygments_lexer": "ipython3",
   "version": "3.8.5"
  },
  "latex_envs": {
   "LaTeX_envs_menu_present": true,
   "autoclose": false,
   "autocomplete": true,
   "bibliofile": "biblio.bib",
   "cite_by": "apalike",
   "current_citInitial": 1,
   "eqLabelWithNumbers": true,
   "eqNumInitial": 1,
   "hotkeys": {
    "equation": "Ctrl-E",
    "itemize": "Ctrl-I"
   },
   "labels_anchors": false,
   "latex_user_defs": false,
   "report_style_numbering": false,
   "user_envs_cfg": false
  }
 },
 "nbformat": 4,
 "nbformat_minor": 4
}
