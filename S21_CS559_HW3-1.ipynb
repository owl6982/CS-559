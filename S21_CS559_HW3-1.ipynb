{
 "cells": [
  {
   "cell_type": "code",
   "execution_count": null,
   "metadata": {},
   "outputs": [],
   "source": []
  },
  {
   "cell_type": "code",
   "execution_count": 1,
   "metadata": {},
   "outputs": [],
   "source": [
    "import pandas as pd\n",
    "import numpy as np"
   ]
  },
  {
   "cell_type": "markdown",
   "metadata": {},
   "source": [
    "## data prepare"
   ]
  },
  {
   "cell_type": "code",
   "execution_count": 2,
   "metadata": {},
   "outputs": [
    {
     "name": "stdout",
     "output_type": "stream",
     "text": [
      "27.8 46.6 9.0\n",
      "displacement : 68.0 174.33333333333334 348.6666666666667 455.0\n",
      "acceleration : 8.0 10.933333333333332 21.866666666666664 24.8\n",
      "weight : 1613.0 2251.0 4502.0 5140.0\n",
      "horsepower : 46.0 92.0 184.0 230.0\n",
      "70.0 82.0 3.0\n",
      "[69.0, 74.0, 78.0, 82.0]\n"
     ]
    }
   ],
   "source": [
    "filename = \"auto-mpg.data\"\n",
    "column_names = ['mpg', 'cylinders', 'displacement', 'horsepower', 'weight', 'acceleration', 'year', 'origin', 'name']\n",
    "df = pd.read_csv(filename, delim_whitespace=True, names=column_names)\n",
    "mpg_cut=(df.mpg.max()+df.mpg.min())/2\n",
    "print(mpg_cut,df.mpg.max(),df.mpg.min())\n",
    "df['horsepower']=pd.to_numeric(df['horsepower'],errors='coerce')\n",
    "df['year']=df['year'].astype(float)\n",
    "df['mpg'] = pd.cut(df.mpg, bins=[df.mpg.min()-1,mpg_cut,df.mpg.max()], labels=[0,1])\n",
    "def value_cut(data,feature):\n",
    "    for feat in feature:\n",
    "        feat_max=data[feat].max()\n",
    "        feat_min=data[feat].min()\n",
    "        feat_cut1=(feat_max+feat_min)/3\n",
    "        data[feat]=pd.cut(df[feat],bins=[feat_min,feat_cut1,feat_cut1*2,feat_max],labels=[0,1,2])\n",
    "        print(feat,\":\",feat_min,feat_cut1,2*feat_cut1,feat_max)\n",
    "        \n",
    "    return data\n",
    "value_cut(df,['displacement','acceleration','weight','horsepower'])\n",
    "yearmin=df.year.min()\n",
    "yearmax=df.year.max()\n",
    "x=(yearmax-yearmin)/4\n",
    "print(yearmin,yearmax,x)\n",
    "yearlist=[yearmin-1,yearmin+4,yearmin+8,yearmax]\n",
    "print(yearlist)\n",
    "df['year'] = pd.cut(df.year, bins=yearlist, labels=[0,1,2])\n",
    "df.fillna(method=\"backfill\",inplace=True)\n",
    "df=df.iloc[:,0:7].astype(int)\n"
   ]
  },
  {
   "cell_type": "code",
   "execution_count": 3,
   "metadata": {},
   "outputs": [
    {
     "data": {
      "text/html": [
       "<div>\n",
       "<style scoped>\n",
       "    .dataframe tbody tr th:only-of-type {\n",
       "        vertical-align: middle;\n",
       "    }\n",
       "\n",
       "    .dataframe tbody tr th {\n",
       "        vertical-align: top;\n",
       "    }\n",
       "\n",
       "    .dataframe thead th {\n",
       "        text-align: right;\n",
       "    }\n",
       "</style>\n",
       "<table border=\"1\" class=\"dataframe\">\n",
       "  <thead>\n",
       "    <tr style=\"text-align: right;\">\n",
       "      <th></th>\n",
       "      <th>mpg</th>\n",
       "      <th>cylinders</th>\n",
       "      <th>displacement</th>\n",
       "      <th>horsepower</th>\n",
       "      <th>weight</th>\n",
       "      <th>acceleration</th>\n",
       "      <th>year</th>\n",
       "    </tr>\n",
       "  </thead>\n",
       "  <tbody>\n",
       "    <tr>\n",
       "      <th>0</th>\n",
       "      <td>0</td>\n",
       "      <td>8</td>\n",
       "      <td>1</td>\n",
       "      <td>1</td>\n",
       "      <td>1</td>\n",
       "      <td>1</td>\n",
       "      <td>0</td>\n",
       "    </tr>\n",
       "    <tr>\n",
       "      <th>1</th>\n",
       "      <td>0</td>\n",
       "      <td>8</td>\n",
       "      <td>2</td>\n",
       "      <td>1</td>\n",
       "      <td>1</td>\n",
       "      <td>1</td>\n",
       "      <td>0</td>\n",
       "    </tr>\n",
       "    <tr>\n",
       "      <th>2</th>\n",
       "      <td>0</td>\n",
       "      <td>8</td>\n",
       "      <td>1</td>\n",
       "      <td>1</td>\n",
       "      <td>1</td>\n",
       "      <td>1</td>\n",
       "      <td>0</td>\n",
       "    </tr>\n",
       "    <tr>\n",
       "      <th>3</th>\n",
       "      <td>0</td>\n",
       "      <td>8</td>\n",
       "      <td>1</td>\n",
       "      <td>1</td>\n",
       "      <td>1</td>\n",
       "      <td>1</td>\n",
       "      <td>0</td>\n",
       "    </tr>\n",
       "    <tr>\n",
       "      <th>4</th>\n",
       "      <td>0</td>\n",
       "      <td>8</td>\n",
       "      <td>1</td>\n",
       "      <td>1</td>\n",
       "      <td>1</td>\n",
       "      <td>0</td>\n",
       "      <td>0</td>\n",
       "    </tr>\n",
       "  </tbody>\n",
       "</table>\n",
       "</div>"
      ],
      "text/plain": [
       "   mpg  cylinders  displacement  horsepower  weight  acceleration  year\n",
       "0    0          8             1           1       1             1     0\n",
       "1    0          8             2           1       1             1     0\n",
       "2    0          8             1           1       1             1     0\n",
       "3    0          8             1           1       1             1     0\n",
       "4    0          8             1           1       1             0     0"
      ]
     },
     "execution_count": 3,
     "metadata": {},
     "output_type": "execute_result"
    }
   ],
   "source": [
    "df.head()"
   ]
  },
  {
   "cell_type": "markdown",
   "metadata": {},
   "source": [
    "## build datasets"
   ]
  },
  {
   "cell_type": "code",
   "execution_count": 4,
   "metadata": {},
   "outputs": [],
   "source": [
    "X = df.iloc[:,1:7].to_numpy()\n",
    "Y = df.iloc[:,0].to_numpy()"
   ]
  },
  {
   "cell_type": "code",
   "execution_count": 5,
   "metadata": {},
   "outputs": [],
   "source": [
    "import random\n",
    "sequence = list(range(len(X)))\n",
    "random.shuffle(sequence)\n",
    "X = X[sequence]\n",
    "Y = Y[sequence]\n",
    "rate = 0.6\n",
    "train_len = int(len(X)*rate)\n",
    "X_train,Y_train,X_test,Y_test = X[:train_len],Y[:train_len],X[train_len:],Y[train_len:]"
   ]
  },
  {
   "cell_type": "markdown",
   "metadata": {},
   "source": [
    "## model implement"
   ]
  },
  {
   "cell_type": "code",
   "execution_count": 6,
   "metadata": {
    "code_folding": [
     43
    ]
   },
   "outputs": [],
   "source": [
    "# import numpy as np\n",
    "from collections import Counter\n",
    "from easydict import EasyDict as edict\n",
    "\n",
    "class utils:\n",
    "    \n",
    "    @staticmethod\n",
    "    def splite_dataset_with_feature_value(X,y,feature_dim,feature_value):\n",
    "        \"\"\"\n",
    "        Splite the datasets into two parts\n",
    "        return X_left,y_left,X_right,y_right\n",
    "        \"\"\"\n",
    "        less_part = X[:,feature_dim]<feature_value\n",
    "        more_part = X[:,feature_dim]>=feature_value\n",
    "        return X[less_part],y[less_part],X[more_part],y[more_part]\n",
    "    \n",
    "    @staticmethod\n",
    "    def gini(x):\n",
    "        \"\"\"x should be with one dimension.\n",
    "        return $1-p^2$\n",
    "        \"\"\"\n",
    "        count_x = Counter(x)\n",
    "        sum_p = 0\n",
    "        for eachcount in count_x.values():\n",
    "            sum_p += (eachcount/len(x))**2\n",
    "        return 1-sum_p\n",
    "    \n",
    "    @staticmethod\n",
    "    def createNode(_dict):\n",
    "        \"\"\"\n",
    "        Using dict to represent node\n",
    "        \"\"\"\n",
    "        return edict(_dict)\n",
    "    \n",
    "    @staticmethod\n",
    "    def findMostCommanValue(x):\n",
    "        \"\"\"Find the most frequency elements in an array\n",
    "        \"\"\"\n",
    "        # print(x,Counter(x).most_common(1))\n",
    "        return Counter(x).most_common(1)[0][0]\n",
    "    \n",
    "class my_decision_tree:\n",
    "    \n",
    "    def __init__(self,max_depth=3,min_leaf_simples=1):\n",
    "        self.dtree = None\n",
    "        self.max_depth = max_depth\n",
    "        self.min_leaf_simples = min_leaf_simples\n",
    "    \n",
    "    def fit(self,X,y):\n",
    "        self.dtree= self.__create_dtree(X,y,1)\n",
    "    \n",
    "    def buildNode(self,feature_dim=None,feature_value=None,gini_rate=None,label=None):\n",
    "        nodeDict = {\"feature_dim\":feature_dim,\n",
    "                   \"feature_value\":feature_value,\n",
    "                   \"gini\":gini_rate,\n",
    "                   \"label\":label,\n",
    "                   \"child_left\":None,\n",
    "                   \"child_right\":None}\n",
    "        return edict(nodeDict)\n",
    "    \n",
    "    def __create_dtree(self,X,y,current_depth=1):\n",
    "        \"\"\"\n",
    "        Recursively build the decision tree\n",
    "        \"\"\"\n",
    "#         if len(y) <= self.min_leaf_simples:\n",
    "#             return self.buildNode(label=utils.findMostCommanValue(y))\n",
    "        # s.t. not more than self.max_depth\n",
    "        if current_depth > self.max_depth:\n",
    "            return None\n",
    "        # get current X,y cart value\n",
    "        feature_dim,feature_value,gini_rate = self.__cart(X,y)\n",
    "        # s.t. feature_dim exist and gini_rate exist\n",
    "        if feature_dim == -1 or gini_rate == 0:\n",
    "            return None\n",
    "        # construct dtree node\n",
    "        dnode = self.buildNode(feature_dim,feature_value,gini_rate)\n",
    "        X_left,y_left,X_right,y_right = utils.splite_dataset_with_feature_value(X,y,feature_dim,feature_value)\n",
    "        # recursive  binary \n",
    "        print(len(y_left))\n",
    "        dnode.child_left = self.__create_dtree(X_left,y_left,current_depth=current_depth+1) # build left_child\n",
    "        dnode.child_right = self.__create_dtree(X_right,y_right,current_depth=current_depth+1) # build right_child\n",
    "        if not dnode.child_left: # leaf \n",
    "            label = utils.findMostCommanValue(y_left)\n",
    "            dnode.child_left=self.buildNode(label=label)\n",
    "        if not dnode.child_right: # leaf\n",
    "            label = utils.findMostCommanValue(y_right)\n",
    "            dnode.child_right =self.buildNode(label=label)\n",
    "        return dnode\n",
    "\n",
    "    def predict(self,X):\n",
    "        res = []\n",
    "        for eachx in X:\n",
    "            try:\n",
    "                res.append(self.__singlePredictCycle(eachx,self.dtree))\n",
    "            except:\n",
    "                print(eachx)\n",
    "        return np.array(res)\n",
    "\n",
    "    def __singlePredictRec(self,x,dnode):\n",
    "        \"\"\"\n",
    "        Recursively find left and right subtrees\n",
    "        \"\"\"\n",
    "        if dnode.label:\n",
    "            return dnode.label\n",
    "        if x[dnode.feature_dim]<dnode.feature_value:\n",
    "            return self.__singlePredict(x,dnode.child_left)\n",
    "        else:\n",
    "            return self.__singlePredict(x,dnode.child_right)\n",
    "    \n",
    "    def __singlePredictCycle(self,x,dnode):\n",
    "        \"\"\"\n",
    "        Circularly find the left and right subtrees\n",
    "        \"\"\"\n",
    "        templist = [dnode]\n",
    "        while templist:\n",
    "            currentnode = templist.pop()\n",
    "            if currentnode.label is not None:\n",
    "                return currentnode.label\n",
    "            if x[currentnode.feature_dim]<currentnode.feature_value:\n",
    "                templist.append(currentnode.child_left)\n",
    "            else:\n",
    "                templist.append(currentnode.child_right)\n",
    "        return -1\n",
    "\n",
    "    def __cart(self,X,y):\n",
    "        \"\"\"\n",
    "        Return best splite parameter\n",
    "        \"\"\"\n",
    "        feature_dim_length = X.shape[1]\n",
    "        # sample_length = len(X)\n",
    "        minigini = 1\n",
    "        feature_dim = -1\n",
    "        best_feature_value = -1\n",
    "        for eachfeature in range(feature_dim_length):\n",
    "            feature_values = np.unique(X[:,eachfeature])\n",
    "            for index in range(len(feature_values)-1):\n",
    "                feature_value = feature_values[index] + feature_values[index+1]\n",
    "                feature_value /= 2\n",
    "                left = X[:,eachfeature] < feature_value\n",
    "                right = X[:,eachfeature] >= feature_value\n",
    "                if len(y[left])<self.min_leaf_simples or len(y[right])<self.min_leaf_simples:# less than min_leaf_simples\n",
    "                    continue\n",
    "                tempgini = utils.gini(y[left]) + utils.gini(y[right])\n",
    "                if tempgini < minigini:\n",
    "                    minigini = tempgini\n",
    "                    feature_dim = eachfeature\n",
    "                    best_feature_value = feature_value\n",
    "        return feature_dim,best_feature_value,minigini\n",
    "    "
   ]
  },
  {
   "cell_type": "markdown",
   "metadata": {},
   "source": [
    "## Train"
   ]
  },
  {
   "cell_type": "code",
   "execution_count": 19,
   "metadata": {},
   "outputs": [],
   "source": [
    "mytree = my_decision_tree(max_depth=4,min_leaf_simples=4)"
   ]
  },
  {
   "cell_type": "code",
   "execution_count": 20,
   "metadata": {},
   "outputs": [
    {
     "name": "stdout",
     "output_type": "stream",
     "text": [
      "6\n",
      "228\n",
      "224\n",
      "204\n"
     ]
    }
   ],
   "source": [
    "mytree.fit(X_train,Y_train)"
   ]
  },
  {
   "cell_type": "code",
   "execution_count": 21,
   "metadata": {},
   "outputs": [
    {
     "data": {
      "text/plain": [
       "{'feature_dim': 4,\n",
       " 'feature_value': 0.5,\n",
       " 'gini': 0.454481272294887,\n",
       " 'label': None,\n",
       " 'child_left': {'feature_dim': None,\n",
       "  'feature_value': None,\n",
       "  'gini': None,\n",
       "  'label': 0,\n",
       "  'child_left': None,\n",
       "  'child_right': None},\n",
       " 'child_right': {'feature_dim': 2,\n",
       "  'feature_value': 1.5,\n",
       "  'gini': 0.4581024930747922,\n",
       "  'label': None,\n",
       "  'child_left': {'feature_dim': 3,\n",
       "   'feature_value': 1.5,\n",
       "   'gini': 0.4616948341836735,\n",
       "   'label': None,\n",
       "   'child_left': {'feature_dim': 1,\n",
       "    'feature_value': 1.5,\n",
       "    'gini': 0.47880622837370246,\n",
       "    'label': None,\n",
       "    'child_left': {'feature_dim': None,\n",
       "     'feature_value': None,\n",
       "     'gini': None,\n",
       "     'label': 0,\n",
       "     'child_left': None,\n",
       "     'child_right': None},\n",
       "    'child_right': {'feature_dim': None,\n",
       "     'feature_value': None,\n",
       "     'gini': None,\n",
       "     'label': 0,\n",
       "     'child_left': None,\n",
       "     'child_right': None}},\n",
       "   'child_right': {'feature_dim': None,\n",
       "    'feature_value': None,\n",
       "    'gini': None,\n",
       "    'label': 0,\n",
       "    'child_left': None,\n",
       "    'child_right': None}},\n",
       "  'child_right': {'feature_dim': None,\n",
       "   'feature_value': None,\n",
       "   'gini': None,\n",
       "   'label': 0,\n",
       "   'child_left': None,\n",
       "   'child_right': None}}}"
      ]
     },
     "execution_count": 21,
     "metadata": {},
     "output_type": "execute_result"
    }
   ],
   "source": [
    "mytree.dtree"
   ]
  },
  {
   "cell_type": "markdown",
   "metadata": {},
   "source": [
    "## evaluation"
   ]
  },
  {
   "cell_type": "code",
   "execution_count": 22,
   "metadata": {},
   "outputs": [
    {
     "name": "stdout",
     "output_type": "stream",
     "text": [
      "test accuracy:   0.7625\n"
     ]
    }
   ],
   "source": [
    "acc = sum(mytree.predict(X_test) == Y_test) / len(Y_test)\n",
    "print(\"test accuracy:  \",acc)"
   ]
  },
  {
   "cell_type": "code",
   "execution_count": 23,
   "metadata": {},
   "outputs": [
    {
     "name": "stdout",
     "output_type": "stream",
     "text": [
      "train accuracy:   0.6596638655462185\n"
     ]
    }
   ],
   "source": [
    "trainacc = sum(mytree.predict(X_train) == Y_train) / len(Y_train)\n",
    "print(\"train accuracy:  \",trainacc)"
   ]
  }
 ],
 "metadata": {
  "kernelspec": {
   "display_name": "Python 3",
   "language": "python",
   "name": "python3"
  },
  "language_info": {
   "codemirror_mode": {
    "name": "ipython",
    "version": 3
   },
   "file_extension": ".py",
   "mimetype": "text/x-python",
   "name": "python",
   "nbconvert_exporter": "python",
   "pygments_lexer": "ipython3",
   "version": "3.7.8"
  },
  "latex_envs": {
   "LaTeX_envs_menu_present": true,
   "autoclose": false,
   "autocomplete": true,
   "bibliofile": "biblio.bib",
   "cite_by": "apalike",
   "current_citInitial": 1,
   "eqLabelWithNumbers": true,
   "eqNumInitial": 1,
   "hotkeys": {
    "equation": "Ctrl-E",
    "itemize": "Ctrl-I"
   },
   "labels_anchors": false,
   "latex_user_defs": false,
   "report_style_numbering": false,
   "user_envs_cfg": false
  }
 },
 "nbformat": 4,
 "nbformat_minor": 4
}
